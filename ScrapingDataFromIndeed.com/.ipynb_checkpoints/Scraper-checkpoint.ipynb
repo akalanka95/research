{
 "cells": [
  {
   "cell_type": "code",
   "execution_count": 184,
   "metadata": {},
   "outputs": [],
   "source": [
    "from bs4 import BeautifulSoup\n",
    "import requests\n",
    "import time\n",
    "import csv\n",
    "import os\n",
    "import re\n",
    "import pickle"
   ]
  },
  {
   "cell_type": "code",
   "execution_count": 239,
   "metadata": {},
   "outputs": [
    {
     "name": "stdout",
     "output_type": "stream",
     "text": [
      "88\n",
      "88\n"
     ]
    }
   ],
   "source": [
    "class Job:\n",
    "    def __init__(self, URI, description , summary):\n",
    "        self.URI = URI\n",
    "        self.description = description\n",
    "        self.summary = summary\n",
    "    def __iter__(self):\n",
    "        return self\n",
    "    def toJson(self):\n",
    "        return json.dumps(self, default=lambda o: o.__dict__)\n",
    "\n",
    "        \n",
    "s = Job('John', 88 ,'sdad')\n",
    "a=[]\n",
    "a.append(s)\n",
    "s1 = Job('John2', 88, 'adsa')\n",
    "a.append(s1)\n",
    "for s in a:\n",
    "    print(s.description)"
   ]
  },
  {
   "cell_type": "code",
   "execution_count": 240,
   "metadata": {},
   "outputs": [
    {
     "name": "stdout",
     "output_type": "stream",
     "text": [
      "-------------------------------------------\n",
      "-------------------------------------------\n",
      "-------------------------------------------\n",
      "-------------------------------------------\n",
      "-------------------------------------------\n",
      "-------------------------------------------\n",
      "-------------------------------------------\n",
      "-------------------------------------------\n",
      "-------------------------------------------\n",
      "-------------------------------------------\n"
     ]
    }
   ],
   "source": [
    "page_list = [10]\n",
    "\n",
    "jobDic = {}\n",
    "i=0\n",
    "jobList = []\n",
    "\n",
    "# jobs_categories = ['database+administrator','java+developer','database+analyst','database+architect','front+end+developer'\n",
    "#                   ,'back+end+developer','software+developer','quality+assurance','mobile+developer','machine+learning','cloud+computing',\n",
    "#                   '']\n",
    "\n",
    "jobs_categories = ['java+developer']\n",
    "\n",
    "with open('G:/Research/ScrapingDataFromIndeed.com/job_description.csv','a',encoding='utf-8',newline='') as f_output:\n",
    "    csv_print = csv.writer(f_output)\n",
    "    \n",
    "    file_is_empty = os.stat('G:/Research/ScrapingDataFromIndeed.com/job_description.csv').st_size== 0\n",
    "    if file_is_empty:\n",
    "        csv_print.writerow(['Job_Title','Company','Location','Summary','Jobs_Description','Salary'])\n",
    "    \n",
    "    for job_list in jobs_categories:\n",
    "        \n",
    "        for page in page_list:\n",
    "            source = requests.get('https://www.indeed.com/jobs?q='+job_list+'&start={}'.format(page)).text\n",
    "\n",
    "            soup = BeautifulSoup(source,'lxml')\n",
    "            #print(soup.prettify())\n",
    "\n",
    "            #jobs = soup.find(class_='result')\n",
    "            ##print(jobs.prettify())\n",
    "\n",
    "            for jobs in soup.find_all(class_='result'):\n",
    "                \n",
    "                \n",
    "                print(\"-------------------------------------------\")\n",
    "                requests.get('https://www.indeed.com/jobs?q='+job_list+'&start={}'.format(page)).text\n",
    "\n",
    "                try:\n",
    "                    \n",
    "                    getJK = jobs.find(class_='title') \n",
    "                    getJK1 = getJK.find('a')\n",
    "                    #print(getJK1)\n",
    "                    getJK2 = re.search('\"jl_(.+?)\"',str(getJK1)).group(1)\n",
    "                    #print(getJK2)\n",
    "               \n",
    "                    links = soup.find_all('script')\n",
    "                    links2 = str(links)\n",
    "                    word = re.search('tk (.*)',links2)\n",
    "                    word2 =  str(word.groups())\n",
    "                    match = re.search(r'[\"](.*?)[\"]',word2).group()\n",
    "                    #print( match )\n",
    "\n",
    "                    find_jk = soup.find(class_='result')\n",
    "                    find_jk1 = find_jk.find('a')\n",
    "                    find_jk2 = str(find_jk1)\n",
    "                    find_jk3 = re.search(r'jk=(.*?)&',find_jk2).group(1)\n",
    "                    #print(find_jk3)\n",
    "                    \n",
    "                    #source1 = requests.get('https://www.indeed.com/viewjob?'+find_jk3+''+match+'&from=serp&vjs=3').text\n",
    "\n",
    "                    source1 = requests.get('https://www.indeed.com/viewjob?jk='+getJK2+'&'+match+'&from=serp&vjs=3').text\n",
    "\n",
    "\n",
    "                    \n",
    "                    soup1 = BeautifulSoup(source1,'lxml')\n",
    "                    jobs_description = soup1.find(class_='jobsearch-jobDescriptionText').text.strip()\n",
    "                    #print('*************************')\n",
    "                    #print(jobs_description)\n",
    "                    \n",
    "                except Exception as e:\n",
    "                    jobs_description = None\n",
    "\n",
    "                try:\n",
    "                    job_title = jobs.find(class_='title').text.strip()\n",
    "                except Exception as e:\n",
    "                    job_title = None\n",
    "                #print('Job_Title' ,job_title)\n",
    "\n",
    "                try:\n",
    "                    company_name = jobs.find('span',class_='company').text.strip()\n",
    "                except Exception as e:\n",
    "                    company_name = None\n",
    "                #print('Company_Name' ,company_name)\n",
    "\n",
    "                try:\n",
    "                    company_location = jobs.find('span',class_='location').text.strip()\n",
    "                except Exception as e:\n",
    "                    company_location = None\n",
    "                #print('Company_Location' ,company_location)\n",
    "\n",
    "                try:\n",
    "                    summary = jobs.find(class_='summary').text.strip()\n",
    "                except Exception as e:\n",
    "                    summary = None\n",
    "                #print('Summary' ,summary)\n",
    "\n",
    "                try:\n",
    "                    salary = jobs.find(class_='salary').text.strip()\n",
    "                except Exception as e:\n",
    "                    salary = None\n",
    "                #print('Salary' ,salary)\n",
    "                \n",
    "                jobDic[i] = {'URI' : job_title ,'description' : company_location}\n",
    "                i = i+1\n",
    "                \n",
    "                s = Job('https://www.indeed.com/viewjob?jk='+getJK2+'&'+match+'&from=serp&vjs=3', company_location , jobs_description)\n",
    "                jobList.append(s)\n",
    "\n",
    "                csv_print.writerow([job_title,company_name,company_location,summary,jobs_description,salary])\n",
    "\n",
    "                time.sleep(2)\n",
    "                \n",
    "        #print(jobDic['description'])\n",
    "                "
   ]
  },
  {
   "cell_type": "code",
   "execution_count": 174,
   "metadata": {},
   "outputs": [
    {
     "name": "stdout",
     "output_type": "stream",
     "text": [
      "United States\n",
      "Waukegan, IL\n",
      "Charleston, SC\n",
      "Woodbridge, NJ 07095\n",
      "Lake Mary, FL\n",
      "Pittsburgh, PA\n",
      "Union City, CA\n",
      "Herndon, VA\n",
      "Dallas, TX\n",
      "United States\n"
     ]
    }
   ],
   "source": [
    "for s in jobList:\n",
    "    print(s.description)"
   ]
  },
  {
   "cell_type": "code",
   "execution_count": 241,
   "metadata": {},
   "outputs": [
    {
     "name": "stdout",
     "output_type": "stream",
     "text": [
      "['position', 'overview', 'java', 'developer', 'engineer', '3', 'years', 'experience', 'time', 'benefits', 'onsite', 'd.c', 'reston', 'virginia', 'currently', 'remote', 'stay', 'home', 'orders', 'lifted', 'job', 'scope', 'responsibilities', 'serve', 'team', 'federal', 'government', 'agency', 'information', 'sharing', 'mission', 'responsible', 'building', 'applications', 'agile', 'development', 'methodology', 'dynamic', 'works', 'closely', 'client', 'ability', 'flexible', 'important', 'requirements', 'shift', 'looking', 'eager', 'learn', 'new', 'technologies', 'methodologies', 'atmosphere', 'congenial', 'welcomes', 'ideas', 'improve', 'productivity', 'simplify', 'code', 'ideal', 'candidate', 'enjoys', 'programming', 'challenges', 'minimal', 'direction', 'able', 'perform', 'web', 'application', 'design', 'coding', 'testing', 'debugging', 'enhancements', 'existing', 'software', 'conducted', 'spring', 'hibernate', 'role', 'include', 'limited', 'build', 'update', '8)', 'end', 'pages', 'html', 'css', 'angular', 'ajax', 'manipulates', 'content', 'interacts', 'systems', 'services', 'apis', 'restful', 'interface', 'postgresql', 'implement', 'unit', 'built', 'components', 'tools', 'junit', 'help', 'devops', 'set', 'continuous', 'integration', 'deployment', 'work', 'site', 'location', 'dc', 'metro', 'area', 'likely', 'washington', 'd.c.', 'and/or', 'cleared', 'citizenship', 'permanent', 'resident', 'required', 'public', 'trust', 'clearance', 'process', 'candidates', 'apply', 'requires', 'presence', '\\n\\n', 'skills', 'qualifications', 'multitask', 'highly', 'collaborative', 'environment', 'independently', 'needed', 'superior', 'interpersonal', 'strong', 'communication', 'comfortable', 'working', 'directly', 'project', 'manager', 'support', 'emerging', 'needs', 'j2ee', '5', 'oo', 'mvc', 'javascript', 'soap', '2', 'designing', 'developing', 'similar', 'relational', 'databases', 'boot', 'security', 'batch', 'sql', 'jpa', 'maven', 'gradle', 'jenkins', 'exposure', 'python', 'django', 'repository', 'svn', 'git', 'technical', 'staff', 'understand', 'develop', 'resolves', 'customer', 'complaints', 'responds', 'suggestions', 'modifications', 'participate', 'documentation', 'version', 'description', 'document', 'user', 'manuals', 'assists', 'training', 'experienced', 'act', 'leader', 'complex', 'projects', 'participated', 'scrum', 'based', 'pass', 'basic', 'background', 'check', 'preferred', 'teams', 'awesome', 'setting', 'mentor', 'lead', 'junior', 'developers', 'automation', 'jira', 'ant', 'container', 'like', 'docker', 'aws', 'cloud', 'ldap', 'oauth', 'ad', 'authentication', 'elasticsearch', 'lucene', 'solr', 'excellent', 'education', 'undergraduate', 'degree', 'desired', 'substituted', '4', 'additional', 'artemis', 'consulting', 'management', 'firm', 'inc.', '5000', 'list', 'fastest', 'growing', 'companies', 'u.s', 'entrepreneur', '360', 'chamber', 'commerce', 'fantastic', '50', 'self', 'motivated', 'focused', 'creating', 'value', 'clients', 'company', 'opportunity', 'grow', 'peers', 'believe', 'getting', 'having', 'life', 'balance', 'offer', 'competitive', 'salaries', 'comprehensive', 'package', 'including', 'employer', 'subsidized', 'health', 'dental', 'vision', 'insurance', '401(k', 'matching', '10', 'paid', 'holidays', 'vacation', 'sick', 'leave', 'equal', 'committed', 'diversity', 'inclusion', 'qualified', 'receive', 'consideration', 'employment', 'regard', 'disability', 'race', 'color', 'religious', 'creed', 'national', 'origin', 'sexual', 'orientation', 'gender', 'identity', 'age', 'principals', 'recruiters', 'contact', 'poster', 'unsolicited', 'offers', 'utilizes', 'e', 'verify', 'authorization', 'eeo', 'aa', 'f', 'm', 'vet', 'disabled']\n",
      "['java', 'backend', 'developer', '\\n\\n', 'team', 'capco', 'technology', 'dedicated', 'financial', 'services', 'industries', 'professionals', 'combine', 'innovative', 'thinking', 'unrivalled', 'industry', 'domain', 'expertise', 'offer', 'clients', 'consulting', 'complex', 'package', 'integration', 'transformation', 'delivery', 'managed', 'organizations', 'forward', 'collaborative', 'efficient', 'approach', 'help', 'successfully', 'innovate', 'increase', 'revenue', 'manage', 'risk', 'regulatory', 'change', 'reduce', 'costs', 'enhance', 'controls', 'teams', 'stay', 'forefront', 'trends', 'technologies', 'driving', 'innovation', 'strategy', 'launch', 'adept', 'delivering', 'product', 'lifecycle', 'job', 'member', 'bring', 'practical', 'knowledge', 'agile', 'development', 'methodologies', 'engineering', 'best', 'practices', 'use', 'experience', 'skills', 'contribute', 'quality', 'implementation', 'software', 'products', 'customers', 'perform', 'hands', 'adoption', 'modern', 'spring', 'boot', 'rest', 'microservices', 'mongo', 'db', 'aws', 'cloud', 'work', 'closely', 'manager', 'understand', 'needs', 'client', 'stakeholder', 'management', 'demonstrate', 'passion', 'learning', 'willingness', 'adopt', 'new', 'culture', 'ideas', 'continuous', 'improvement', 'great', 'attitude', 'solid', 'communication', 'learn', 'collaborate', 'ensure', 'clear', 'documentation', 'created', 'modified', 'functionality', 'responsible', 'interfacing', 'influencing', 'business', 'lines', 'developing', 'applications', '8', 'high', 'level', 'tech', 'like', 'implementing', 'solutions', 'azure', 'google', 'willing', 'developers', 'company', 'continuously', 'improve', 'strong', 'critical', 'excellent', 'ability', 'liaise', 'influence', 'range', 'internal', 'external', 'stakeholders', 'bachelor', 'degree', 'join', 'supports', 'encourages', 'entrepreneurial', 'outlook', 'independent', 'organizational', 'charts', 'layers', '–', 'operate', 'little', 'hierarchy', 'want', 'employees', 'feel', 'firm', 'highly', 'competitive', 'benefits', 'including', 'medical', 'dental', 'vision', 'insurance', '401(k', 'plan', 'tuition', 'reimbursement', 'focused', 'creation', 'lasting', 'value', 'ready', 'step', 'sounds', 'love', 'hear', 'opportunity', 'difference', 'successful', 'significant', 'growth', 'trajectory']\n",
      "['job', 'description', 'skill', 'java', 'developer', 'role', 't3', 't2', 'interested', 'cycle', 'development', 'working', 'collaboratively', 'diverse', 'suite', 'clients', 'team', 'cares', 'growth', 'join', 'virtusa', 'opportunity', 'tap', 'knowledge', 'develop', 'design', 'manage', 'wide', 'range', 'innovative', 'projects', 'sound', 'like', 'fun', 'read', '\\n\\n', 'day', 'responsibilities', 'include', '\\n ', 'utilizing', 'deep', 'technical', 'optimize', 'business', 'processes', 'multiple', 'systems', 'developing', 'detailed', 'analysis', 'specifications', 'based', 'functional', 'requirements', 'collaborating', 'fellow', 'developers', 'solve', 'problems', 'creating', 'user', 'acceptance', 'testing', 'performance', 'plans', 'validate', 'support', 'customizations', 'features', 'functionalities', 'migrating', 'internal', 'external', 'clouds', 'microservices', 'architecture', 'evaluating', 'open', 'source', 'vendor', 'products', 'qualifications', 'bachelor', 'degree', 'computer', 'science', 'engineering', 'related', 'field', 'equivalent', 'professional', 'experience', '5', 'years', 'software', '3', 'j2ee', 'lifecycle', 'delivery', 'complex', 'including', 'build', 'test', 'deployment', 'confident', 'problem', 'solver', 'communicator', 'meticulous', 'strong', 'attention', 'detail', 'demonstrated', 'cross', 'player', 'prior', 'building', 'internet', 'platforms', 'ground', 'understanding', 'patterns', 'architectures', 'enterprise', 'industry', 'best', 'practices', 'agile', 'environment', 'expert', 'level', 'designing', 'rest', 'soap', 'web', 'services', 'ajax', 'plus', 'oracle', 'sql', 'preferred', 'messaging', 'event', 'driven', 'database', 'high', 'volume', 'mission', 'critical', 'applications', 'distributed', 'scale', 'fast', 'paced', 'written', 'verbal', 'communication', 'skills', 'interpersonal', 'time', 'management', 'analytical', 'troubleshooting', 'teamwork', 'quality', 'life', 'personal', 'values', 'proud', 'embody', '21,000', 'people', 'globally', '—', 'seeks', 'provide', 'exciting', 'opportunities', 'work', 'state', 'art', 'technologies', 'career', 'great', 'minds', 'potential', 'comes', 'value', 'collaboration', 'company', 'seek', 'dynamic', 'place', 'nurture', 'new', 'ideas', 'foster', 'excellence', 'founded', 'principles', 'equal', 'discriminate', 'basis', 'race', 'religion', 'color', 'sex', 'gender', 'identity', 'sexual', 'orientation', 'age', 'non', 'disqualifying', 'physical', 'mental', 'disability', 'national', 'origin', 'veteran', 'status', 'covered', 'appropriate', 'law', 'employment', 'decided', 'merit', 'need', 'learn', 'www.virtusa.com', '\\n\\n\\n', 'primary', 'location', 'fremont', 'schedule', 'type', 'experienced', 'travel', 'posting', '06/07/2020', '7:43:46', 'pm']\n",
      "['published', 'june', '25', '2020', 'location', 'waukegan', 'il', 'united', 'states', 'america', 'job', 'type', 'contract', 'description', 'title', 'as/400', 'rpg', 'developer', 'java', 'id', '10679', 'salary', '70', 'hr', 'w2', '77', 'c2c', 'status', 'hire', 'client', 'join', 'leader', 'supply', 'chain', 'industry', 'position', 'looking', 'responsible', 'development', 'maintenance', 'based', 'applications', 'responsibilities', 'design', 'develop', 'implement', 'support', 'maintain', 'complex', 'application', 'troubleshoot', 'resolve', 'issues', 'code', 'quality', 'unit', 'testing', 'document', 'appropriately', 'communicate', 'business', 'analysts', 'gather', 'accurate', 'specifications', 'collaborate', 'team', 'members', 'projects', 'requirements', '3', 'years', 'experience', 'knowledge', 'iv', 'ile', 'db2/400', 'tables', 'clp', 'sql', 'connectivity', 'pc', 'internet', 'functions', 'needed', 'bachelor', 'degree', 'required']\n",
      "['successful', 'candidate', 'work', 'small', 'development', 'team', 'capture', 'product', 'line', 'job', 'leverage', 'latest', 'micro', 'service', 'cloud', 'ready', 'technologies', 'fully', 'adapt', 'responsibilities', 'developing', 'high', 'volume', 'low', 'latency', 'applications', 'mission', 'critical', 'systems', 'delivering', 'availability', 'performance', 'contributing', 'phases', 'lifecycle', 'writing', 'designed', 'testable', 'efficient', 'code', 'ensure', 'designs', 'compliance', 'specifications', 'prepare', 'produce', 'releases', 'software', 'components', 'support', 'continuous', 'improvement', 'investigating', 'alternatives', 'presenting', 'architectural', 'review', 'requirements', 'bs', 'degree', 'computer', 'science', 'engineering', 'related', 'subject', '2', 'years', 'java', 'web', 'application', 'object', 'oriented', 'analysis', 'design', 'common', 'patterns', 'understanding', 'knowledge', 'relational', 'databases', 'sql', 'orm', 'jpa2', 'hibernate', 'experience', 'spring', 'framework', 'integration', 'associated', 'toolsets', 'linux', 'unix', 'experienced']\n",
      "['location', 'remote', 'requirements', '\\n\\n', 'java', 'j2ee', 'technologies', 'ecosystem', 'jsp', 'spring', 'jdbc', 'hibernate', 'maven', 'tomcat', 'etc', 'web', 'based', 'application', 'development', 'experience', 'html', 'html5', 'javascript', 'frameworks', 'jquery', 'prototype', '\\n\\n\\n', 'nice', 'knows', 'write', 'services', 'soap', 'rest', 'ajax', 'database', 'systems', 'sql', 'rdbms', 'nosql', 'scripting', 'languages', 'shell', 'perl', 'python', 'documentation', 'skills', 'crypto', 'ssl', 'tls', 'pki', 'network', 'protocols', 'user', 'programming', 'level', 'secure', 'coding', 'practices', 'distributed', 'good', 'english', 'masters', 'degree', 'information', 'technology', 'similar', 'applying', 'send', 'following', 'jobs@nxlog.org', 'short', 'cover', 'letter', 'explaining', 'interested', 'position', 'cv', 'resume', 'salary', 'hourly', 'rate']\n",
      "['required', 'skills', '/qualifications', '•', 'strong', 'verbal', 'written', 'communication', 'goal', 'client', 'deadline', 'oriented', 'analytical', 'problem', 'solving', 'ability', 'work', 'multiple', 'projects', 'concurrently', 'meet', 'deadlines', 'globally', 'distributed', 'teams', 'technical', 'solid', '3', '5', 'years', 'experience', 'java', 'springboot', 'microservices', 'development', 'building', 'service', 'microservice', 'style', 'cloud', 'based', 'architectures', 'hands', 'jenkins', 'teamcity', 'sonar', 'cube', 'bitbucket', 'understanding', 'different', 'storage', 'appropriate', 'application', 'software', 'sdlc', 'agile', 'excellent', 'knowledge', 'multithreading', 'thread', 'pools', 'oop', 'ooad', 'experienced', 'developing', 'real', 'time', 'low', 'latency', 'applications', 'exposure', 'message', 'driven']\n",
      "['responsibilities', '\\n\\n', 'java', 'developer', 'position', 'help', 'analyze', 'user', 'needs', 'define', 'site', 'objectives', 'use', 'programming', 'languages', 'software', 'build', 'applications', 'design', 'implement', 'efficient', 'ur', 'internet', 'intranet', 'work', 'developers', 'produce', 'optimal', 'outcomes', 'experience', 'required', '1', 'year', 'number', 'posts', 'python', 'spring', 'boot', 'following', 'degrees', 'computer', 'science', 'information', 'technology']\n",
      "['comments', '\\n\\n', 'contract', 'hire', 'role', 'pittsburgh', 'location', 'require', 'coding', 'session', 'interview', 'work', 'remote', 'start', 'site', 'restrictions', 'lifted', 'time', 'conversion', 'salary', '80', 'k', '85', 'able', 'accommodate', '90', 'k.', 'video', 'technical', 'required', 'hands', 'description', 'member', 'agile', 'software', 'engineer', 'team', 'responsible', 'building', 'scalable', 'applications', 'digital', 'channels', 'serve', 'customers', 'taking', 'enterprisewide', 'architectural', 'view', 'solutions', 'execution', 'products', 'stack', 'best', 'meets', 'needs', 'platform', 'involved', 'aspect', 'application', 'build', 'process', 'idea', 'generation', 'business', 'analysis', 'design', 'development', 'latest', 'technologies', 'patterns', 'java', 'developer', 'strength', 'end', 'candidates', 'need', 'ui', 'experience', 'angular', '7', '4', 'year', 'formal', 'degree', '35', 'years', 'google', 'cloud', 'certification', 'preferred', 'typescript']\n",
      "['qualification', 'bachelors', 'masters', 'computer', 'science/', 'engineering/', 'information', 'systems', 'technology/', 'electrical', 'mechanical', 'engineering', 'prior', 'experience', 'computing', 'required', 'train', 'selected', 'candidates', 'valid', 'work', 'authorization', 'need', 'apply', '\\n\\n', 'skills', 'basic', 'knowledge', 'core', 'java', 'c', 'c++', 'coding', 'application', 'development', 'involving', 'designing', 'debugging', 'testing', 'software', 'applications', 'applicable', 'prescribed', 'technologies', 'involve', 'object', 'oriented', 'programming', 'design', 'analysis', 'use', 'methodologies', 'accomplish', 'modeling', 'simulation', 'benefits', 'working', 'itech', 'inc', 'specialize', 'j2ee', 'placement', 'e', 'verified', 'filing', 'h1b', 'green', 'card', 'job', 'technical', 'support', 'interview', 'preparation', 'tips', 'mock', 'interviews', 'functional', 'client', 'free', 'guest', 'house', 'accommodation', 'outstation', 'provision', 'groceries', 'extremely', 'strong', 'sales', 'marketing', 'team', 'solid', 'network', 'fortune', '500', 'clients', 'time', 'pay', 'rolls']\n",
      "https://www.indeed.com/viewjob?jk=672a3e5e7f151b03&\"1ecjtctdvf1ki800\"&from=serp&vjs=3\n",
      "{'position': 5, 'overview': 1, 'java': 11, 'developer': 5, 'engineer': 1, '3': 3, 'years': 6, 'experience': 12, 'time': 1, 'benefits': 2, 'onsite': 3, 'd.c': 1, 'reston': 2, 'virginia': 3, 'currently': 2, 'remote': 2, 'stay': 1, 'home': 1, 'orders': 1, 'lifted': 1, 'job': 3, 'scope': 1, 'responsibilities': 2, 'serve': 1, 'team': 5, 'federal': 4, 'government': 2, 'agency': 1, 'information': 1, 'sharing': 1, 'mission': 1, 'responsible': 1, 'building': 1, 'applications': 4, 'agile': 3, 'development': 6, 'methodology': 1, 'dynamic': 1, 'works': 1, 'closely': 1, 'client': 6, 'ability': 6, 'flexible': 2, 'important': 1, 'requirements': 2, 'shift': 1, 'looking': 1, 'eager': 1, 'learn': 2, 'new': 3, 'technologies': 4, 'methodologies': 1, 'atmosphere': 1, 'congenial': 1, 'welcomes': 1, 'ideas': 1, 'improve': 1, 'productivity': 1, 'simplify': 1, 'code': 3, 'ideal': 2, 'candidate': 3, 'enjoys': 1, 'programming': 2, 'challenges': 1, 'minimal': 1, 'direction': 1, 'able': 4, 'perform': 1, 'web': 6, 'application': 2, 'design': 1, 'coding': 1, 'testing': 2, 'debugging': 1, 'enhancements': 2, 'existing': 2, 'software': 4, 'conducted': 1, 'spring': 4, 'hibernate': 3, 'role': 1, 'include': 2, 'limited': 1, 'build': 4, 'update': 2, '8)': 1, 'end': 2, 'pages': 1, 'html': 2, 'css': 2, 'angular': 1, 'ajax': 1, 'manipulates': 1, 'content': 1, 'interacts': 1, 'systems': 1, 'services': 5, 'apis': 2, 'restful': 1, 'interface': 1, 'postgresql': 2, 'implement': 1, 'unit': 1, 'built': 1, 'components': 1, 'tools': 2, 'junit': 1, 'help': 1, 'devops': 1, 'set': 1, 'continuous': 2, 'integration': 1, 'deployment': 1, 'work': 7, 'site': 1, 'location': 1, 'dc': 2, 'metro': 1, 'area': 3, 'likely': 1, 'washington': 2, 'd.c.': 2, 'and/or': 1, 'cleared': 1, 'citizenship': 1, 'permanent': 1, 'resident': 1, 'required': 2, 'public': 1, 'trust': 1, 'clearance': 1, 'process': 1, 'candidates': 2, 'apply': 1, 'requires': 1, 'presence': 1, '\\n\\n': 1, 'skills': 5, 'qualifications': 1, 'multitask': 1, 'highly': 2, 'collaborative': 2, 'environment': 1, 'independently': 2, 'needed': 1, 'superior': 1, 'interpersonal': 1, 'strong': 1, 'communication': 2, 'comfortable': 1, 'working': 2, 'directly': 1, 'project': 1, 'manager': 1, 'support': 1, 'emerging': 1, 'needs': 1, 'j2ee': 1, '5': 1, 'oo': 1, 'mvc': 2, 'javascript': 1, 'soap': 1, '2': 2, 'designing': 1, 'developing': 1, 'similar': 1, 'relational': 1, 'databases': 1, 'boot': 1, 'security': 2, 'batch': 1, 'sql': 1, 'jpa': 1, 'maven': 2, 'gradle': 1, 'jenkins': 2, 'exposure': 4, 'python': 1, 'django': 1, 'repository': 1, 'svn': 1, 'git': 1, 'technical': 1, 'staff': 2, 'understand': 1, 'develop': 1, 'resolves': 1, 'customer': 1, 'complaints': 1, 'responds': 1, 'suggestions': 1, 'modifications': 1, 'participate': 1, 'documentation': 1, 'version': 1, 'description': 1, 'document': 1, 'user': 1, 'manuals': 1, 'assists': 1, 'training': 1, 'experienced': 1, 'act': 1, 'leader': 1, 'complex': 1, 'projects': 1, 'participated': 1, 'scrum': 1, 'based': 2, 'pass': 1, 'basic': 1, 'background': 1, 'check': 2, 'preferred': 1, 'teams': 2, 'awesome': 1, 'setting': 1, 'mentor': 1, 'lead': 1, 'junior': 1, 'developers': 1, 'automation': 1, 'jira': 1, 'ant': 1, 'container': 1, 'like': 1, 'docker': 1, 'aws': 1, 'cloud': 1, 'ldap': 1, 'oauth': 1, 'ad': 1, 'authentication': 1, 'elasticsearch': 1, 'lucene': 1, 'solr': 1, 'excellent': 1, 'education': 1, 'undergraduate': 1, 'degree': 1, 'desired': 1, 'substituted': 1, '4': 1, 'additional': 1, 'artemis': 4, 'consulting': 5, 'management': 1, 'firm': 1, 'inc.': 1, '5000': 1, 'list': 2, 'fastest': 1, 'growing': 2, 'companies': 3, 'u.s': 1, 'entrepreneur': 1, '360': 1, 'chamber': 1, 'commerce': 1, 'fantastic': 1, '50': 1, 'self': 1, 'motivated': 1, 'focused': 1, 'creating': 1, 'value': 1, 'clients': 1, 'company': 1, 'opportunity': 2, 'grow': 1, 'peers': 1, 'believe': 1, 'getting': 1, 'having': 1, 'life': 1, 'balance': 1, 'offer': 1, 'competitive': 1, 'salaries': 1, 'comprehensive': 1, 'package': 1, 'including': 1, 'employer': 2, 'subsidized': 1, 'health': 1, 'dental': 1, 'vision': 1, 'insurance': 1, '401(k': 1, 'matching': 1, '10': 1, 'paid': 2, 'holidays': 1, 'vacation': 1, 'sick': 1, 'leave': 1, 'equal': 2, 'committed': 1, 'diversity': 1, 'inclusion': 1, 'qualified': 1, 'receive': 1, 'consideration': 1, 'employment': 2, 'regard': 1, 'disability': 1, 'race': 1, 'color': 1, 'religious': 1, 'creed': 1, 'national': 1, 'origin': 1, 'sexual': 1, 'orientation': 1, 'gender': 1, 'identity': 1, 'age': 1, 'principals': 1, 'recruiters': 1, 'contact': 2, 'poster': 1, 'unsolicited': 1, 'offers': 1, 'utilizes': 1, 'e': 1, 'verify': 1, 'authorization': 1, 'eeo': 1, 'aa': 1, 'f': 1, 'm': 1, 'vet': 1, 'disabled': 1}\n",
      "https://www.indeed.com/viewjob?jk=e145277ca277fd6b&\"1ecjtctdvf1ki800\"&from=serp&vjs=3\n",
      "{'java': 6, 'backend': 2, 'developer': 2, '\\n\\n': 11, 'team': 4, 'capco': 5, 'technology': 3, 'dedicated': 1, 'financial': 1, 'services': 2, 'industries': 1, 'professionals': 1, 'combine': 1, 'innovative': 1, 'thinking': 3, 'unrivalled': 1, 'industry': 2, 'domain': 1, 'expertise': 2, 'offer': 2, 'clients': 3, 'consulting': 1, 'complex': 2, 'package': 1, 'integration': 1, 'transformation': 1, 'delivery': 2, 'managed': 1, 'organizations': 1, 'forward': 1, 'collaborative': 1, 'efficient': 1, 'approach': 2, 'help': 1, 'successfully': 1, 'innovate': 1, 'increase': 1, 'revenue': 1, 'manage': 1, 'risk': 1, 'regulatory': 1, 'change': 1, 'reduce': 1, 'costs': 1, 'enhance': 1, 'controls': 1, 'teams': 1, 'stay': 1, 'forefront': 1, 'trends': 1, 'technologies': 2, 'driving': 1, 'innovation': 3, 'strategy': 1, 'launch': 1, 'adept': 1, 'delivering': 1, 'product': 1, 'lifecycle': 1, 'job': 1, 'member': 1, 'bring': 2, 'practical': 1, 'knowledge': 2, 'agile': 1, 'development': 3, 'methodologies': 1, 'engineering': 2, 'best': 1, 'practices': 2, 'use': 1, 'experience': 4, 'skills': 5, 'contribute': 3, 'quality': 1, 'implementation': 1, 'software': 2, 'products': 1, 'customers': 1, 'perform': 1, 'hands': 1, 'adoption': 1, 'modern': 1, 'spring': 3, 'boot': 3, 'rest': 2, 'microservices': 2, 'mongo': 3, 'db': 3, 'aws': 3, 'cloud': 3, 'work': 3, 'closely': 1, 'manager': 1, 'understand': 1, 'needs': 1, 'client': 1, 'stakeholder': 1, 'management': 1, 'demonstrate': 1, 'passion': 1, 'learning': 1, 'willingness': 2, 'adopt': 1, 'new': 1, 'culture': 2, 'ideas': 1, 'continuous': 1, 'improvement': 1, 'great': 1, 'attitude': 1, 'solid': 1, 'communication': 2, 'learn': 1, 'collaborate': 1, 'ensure': 1, 'clear': 1, 'documentation': 1, 'created': 1, 'modified': 1, 'functionality': 1, 'responsible': 1, 'interfacing': 1, 'influencing': 1, 'business': 1, 'lines': 1, 'developing': 1, 'applications': 1, '8': 1, 'high': 1, 'level': 1, 'tech': 1, 'like': 2, 'implementing': 1, 'solutions': 1, 'azure': 1, 'google': 1, 'willing': 1, 'developers': 1, 'company': 3, 'continuously': 1, 'improve': 1, 'strong': 1, 'critical': 1, 'excellent': 1, 'ability': 1, 'liaise': 1, 'influence': 1, 'range': 1, 'internal': 1, 'external': 1, 'stakeholders': 1, 'bachelor': 1, 'degree': 1, 'join': 1, 'supports': 1, 'encourages': 1, 'entrepreneurial': 1, 'outlook': 1, 'independent': 1, 'organizational': 1, 'charts': 1, 'layers': 1, '–': 1, 'operate': 1, 'little': 1, 'hierarchy': 1, 'want': 1, 'employees': 2, 'feel': 1, 'firm': 1, 'highly': 2, 'competitive': 1, 'benefits': 1, 'including': 1, 'medical': 1, 'dental': 1, 'vision': 1, 'insurance': 1, '401(k': 1, 'plan': 1, 'tuition': 1, 'reimbursement': 1, 'focused': 1, 'creation': 1, 'lasting': 1, 'value': 1, 'ready': 1, 'step': 1, 'sounds': 1, 'love': 1, 'hear': 1, 'opportunity': 1, 'difference': 1, 'successful': 1, 'significant': 1, 'growth': 1, 'trajectory': 1}\n",
      "https://www.indeed.com/viewjob?jk=6cab4f2b8ace4a0e&\"1ecjtctdvf1ki800\"&from=serp&vjs=3\n",
      "{'job': 3, 'description': 1, 'skill': 1, 'java': 3, 'developer': 2, 'role': 2, 't3': 1, 't2': 1, 'interested': 1, 'cycle': 1, 'development': 4, 'working': 3, 'collaboratively': 1, 'diverse': 1, 'suite': 1, 'clients': 2, 'team': 4, 'cares': 2, 'growth': 2, 'join': 3, 'virtusa': 5, 'opportunity': 2, 'tap': 1, 'knowledge': 3, 'develop': 2, 'design': 5, 'manage': 1, 'wide': 1, 'range': 1, 'innovative': 1, 'projects': 2, 'sound': 1, 'like': 1, 'fun': 1, 'read': 1, '\\n\\n': 3, 'day': 2, 'responsibilities': 1, 'include': 1, '\\n ': 24, 'utilizing': 1, 'deep': 1, 'technical': 2, 'optimize': 1, 'business': 2, 'processes': 1, 'multiple': 2, 'systems': 3, 'developing': 1, 'detailed': 1, 'analysis': 1, 'specifications': 1, 'based': 1, 'functional': 2, 'requirements': 2, 'collaborating': 1, 'fellow': 1, 'developers': 1, 'solve': 1, 'problems': 1, 'creating': 1, 'user': 1, 'acceptance': 1, 'testing': 2, 'performance': 1, 'plans': 1, 'validate': 1, 'support': 1, 'customizations': 1, 'features': 1, 'functionalities': 1, 'migrating': 1, 'internal': 1, 'external': 1, 'clouds': 1, 'microservices': 2, 'architecture': 1, 'evaluating': 1, 'open': 1, 'source': 1, 'vendor': 1, 'products': 1, 'qualifications': 2, 'bachelor': 1, 'degree': 1, 'computer': 1, 'science': 1, 'engineering': 1, 'related': 1, 'field': 1, 'equivalent': 1, 'professional': 2, 'experience': 13, '5': 2, 'years': 3, 'software': 2, '3': 2, 'j2ee': 1, 'lifecycle': 1, 'delivery': 2, 'complex': 1, 'including': 1, 'build': 1, 'test': 1, 'deployment': 1, 'confident': 1, 'problem': 1, 'solver': 1, 'communicator': 1, 'meticulous': 1, 'strong': 4, 'attention': 1, 'detail': 1, 'demonstrated': 1, 'cross': 1, 'player': 1, 'prior': 1, 'building': 4, 'internet': 2, 'platforms': 2, 'ground': 1, 'understanding': 1, 'patterns': 1, 'architectures': 2, 'enterprise': 1, 'industry': 1, 'best': 1, 'practices': 1, 'agile': 1, 'environment': 3, 'expert': 1, 'level': 1, 'designing': 1, 'rest': 1, 'soap': 1, 'web': 1, 'services': 1, 'ajax': 1, 'plus': 1, 'oracle': 1, 'sql': 1, 'preferred': 1, 'messaging': 1, 'event': 1, 'driven': 1, 'database': 1, 'high': 1, 'volume': 1, 'mission': 1, 'critical': 1, 'applications': 1, 'distributed': 1, 'scale': 1, 'fast': 1, 'paced': 1, 'written': 1, 'verbal': 1, 'communication': 1, 'skills': 4, 'interpersonal': 1, 'time': 2, 'management': 1, 'analytical': 1, 'troubleshooting': 1, 'teamwork': 1, 'quality': 1, 'life': 1, 'personal': 1, 'values': 1, 'proud': 1, 'embody': 1, '21,000': 1, 'people': 1, 'globally': 1, '—': 1, 'seeks': 1, 'provide': 2, 'exciting': 1, 'opportunities': 1, 'work': 1, 'state': 1, 'art': 1, 'technologies': 1, 'career': 1, 'great': 3, 'minds': 2, 'potential': 1, 'comes': 1, 'value': 1, 'collaboration': 1, 'company': 1, 'seek': 1, 'dynamic': 1, 'place': 1, 'nurture': 1, 'new': 1, 'ideas': 1, 'foster': 1, 'excellence': 1, 'founded': 1, 'principles': 1, 'equal': 1, 'discriminate': 1, 'basis': 3, 'race': 1, 'religion': 1, 'color': 1, 'sex': 1, 'gender': 1, 'identity': 1, 'sexual': 1, 'orientation': 1, 'age': 1, 'non': 1, 'disqualifying': 1, 'physical': 1, 'mental': 1, 'disability': 1, 'national': 1, 'origin': 1, 'veteran': 1, 'status': 1, 'covered': 1, 'appropriate': 1, 'law': 1, 'employment': 1, 'decided': 1, 'merit': 1, 'need': 1, 'learn': 1, 'www.virtusa.com': 1, '\\n\\n\\n': 1, 'primary': 1, 'location': 1, 'fremont': 1, 'schedule': 1, 'type': 1, 'experienced': 1, 'travel': 1, 'posting': 1, '06/07/2020': 1, '7:43:46': 1, 'pm': 1}\n",
      "https://www.indeed.com/viewjob?jk=3d40147bd24ac52a&\"1ecjtctdvf1ki800\"&from=serp&vjs=3\n",
      "{'published': 1, 'june': 1, '25': 1, '2020': 1, 'location': 2, 'waukegan': 2, 'il': 2, 'united': 1, 'states': 1, 'america': 1, 'job': 2, 'type': 1, 'contract': 3, 'description': 1, 'title': 1, 'as/400': 5, 'rpg': 9, 'developer': 5, 'java': 2, 'id': 1, '10679': 1, 'salary': 1, '70': 1, 'hr': 2, 'w2': 1, '77': 1, 'c2c': 1, 'status': 1, 'hire': 1, 'client': 2, 'join': 1, 'leader': 1, 'supply': 1, 'chain': 1, 'industry': 1, 'position': 1, 'looking': 1, 'responsible': 1, 'development': 3, 'maintenance': 1, 'based': 2, 'applications': 1, 'responsibilities': 1, 'design': 1, 'develop': 1, 'implement': 1, 'support': 1, 'maintain': 2, 'complex': 1, 'application': 1, 'troubleshoot': 1, 'resolve': 1, 'issues': 1, 'code': 2, 'quality': 1, 'unit': 1, 'testing': 1, 'document': 1, 'appropriately': 1, 'communicate': 1, 'business': 1, 'analysts': 1, 'gather': 1, 'accurate': 1, 'specifications': 1, 'collaborate': 1, 'team': 1, 'members': 1, 'projects': 1, 'requirements': 1, '3': 1, 'years': 1, 'experience': 2, 'knowledge': 3, 'iv': 1, 'ile': 1, 'db2/400': 1, 'tables': 1, 'clp': 1, 'sql': 1, 'connectivity': 1, 'pc': 1, 'internet': 1, 'functions': 1, 'needed': 1, 'bachelor': 1, 'degree': 1, 'required': 1}\n",
      "https://www.indeed.com/viewjob?jk=55a768d64a1781a1&\"1ecjtctdvf1ki800\"&from=serp&vjs=3\n",
      "{'successful': 1, 'candidate': 1, 'work': 1, 'small': 1, 'development': 3, 'team': 1, 'capture': 2, 'product': 1, 'line': 1, 'job': 1, 'leverage': 1, 'latest': 1, 'micro': 1, 'service': 1, 'cloud': 2, 'ready': 1, 'technologies': 3, 'fully': 1, 'adapt': 1, 'responsibilities': 1, 'developing': 1, 'high': 2, 'volume': 1, 'low': 1, 'latency': 1, 'applications': 1, 'mission': 1, 'critical': 1, 'systems': 1, 'delivering': 1, 'availability': 1, 'performance': 1, 'contributing': 1, 'phases': 1, 'lifecycle': 1, 'writing': 1, 'designed': 1, 'testable': 1, 'efficient': 1, 'code': 1, 'ensure': 1, 'designs': 1, 'compliance': 1, 'specifications': 1, 'prepare': 1, 'produce': 1, 'releases': 1, 'software': 1, 'components': 1, 'support': 1, 'continuous': 2, 'improvement': 1, 'investigating': 1, 'alternatives': 1, 'presenting': 1, 'architectural': 1, 'review': 1, 'requirements': 1, 'bs': 1, 'degree': 1, 'computer': 1, 'science': 1, 'engineering': 1, 'related': 1, 'subject': 1, '2': 1, 'years': 1, 'java': 2, 'web': 1, 'application': 1, 'object': 1, 'oriented': 1, 'analysis': 1, 'design': 2, 'common': 1, 'patterns': 1, 'understanding': 1, 'knowledge': 1, 'relational': 1, 'databases': 1, 'sql': 1, 'orm': 1, 'jpa2': 1, 'hibernate': 1, 'experience': 2, 'spring': 1, 'framework': 1, 'integration': 1, 'associated': 1, 'toolsets': 1, 'linux': 1, 'unix': 1, 'experienced': 1}\n",
      "https://www.indeed.com/viewjob?jk=22d38fbe097d4988&\"1ecjtctdvf1ki800\"&from=serp&vjs=3\n",
      "{'location': 1, 'remote': 1, 'requirements': 2, '\\n\\n': 2, 'java': 1, 'j2ee': 1, 'technologies': 1, 'ecosystem': 1, 'jsp': 1, 'spring': 1, 'jdbc': 1, 'hibernate': 1, 'maven': 1, 'tomcat': 1, 'etc': 3, 'web': 2, 'based': 1, 'application': 1, 'development': 2, 'experience': 3, 'html': 1, 'html5': 1, 'javascript': 1, 'frameworks': 1, 'jquery': 1, 'prototype': 1, '\\n\\n\\n': 1, 'nice': 1, 'knows': 1, 'write': 1, 'services': 1, 'soap': 1, 'rest': 1, 'ajax': 1, 'database': 1, 'systems': 2, 'sql': 1, 'rdbms': 1, 'nosql': 1, 'scripting': 1, 'languages': 1, 'shell': 1, 'perl': 1, 'python': 1, 'documentation': 1, 'skills': 2, 'crypto': 1, 'ssl': 1, 'tls': 1, 'pki': 1, 'network': 1, 'protocols': 1, 'user': 1, 'programming': 1, 'level': 1, 'secure': 1, 'coding': 1, 'practices': 1, 'distributed': 1, 'good': 1, 'english': 1, 'masters': 1, 'degree': 1, 'information': 1, 'technology': 1, 'similar': 1, 'applying': 1, 'send': 1, 'following': 1, 'jobs@nxlog.org': 1, 'short': 1, 'cover': 1, 'letter': 1, 'explaining': 1, 'interested': 1, 'position': 1, 'cv': 1, 'resume': 1, 'salary': 1, 'hourly': 1, 'rate': 1}\n",
      "https://www.indeed.com/viewjob?jk=c57805c7bfa71586&\"1ecjtctdvf1ki800\"&from=serp&vjs=3\n",
      "{'required': 1, 'skills': 3, '/qualifications': 1, '•': 13, 'strong': 4, 'verbal': 1, 'written': 1, 'communication': 1, 'goal': 1, 'client': 1, 'deadline': 1, 'oriented': 2, 'analytical': 1, 'problem': 1, 'solving': 1, 'ability': 2, 'work': 2, 'multiple': 1, 'projects': 1, 'concurrently': 1, 'meet': 1, 'deadlines': 1, 'globally': 1, 'distributed': 2, 'teams': 1, 'technical': 1, 'solid': 1, '3': 1, '5': 1, 'years': 1, 'experience': 5, 'java': 1, 'springboot': 1, 'microservices': 1, 'development': 2, 'building': 1, 'service': 1, 'microservice': 1, 'style': 1, 'cloud': 1, 'based': 1, 'architectures': 3, 'hands': 1, 'jenkins': 1, 'teamcity': 1, 'sonar': 1, 'cube': 1, 'bitbucket': 1, 'understanding': 1, 'different': 1, 'storage': 1, 'appropriate': 1, 'application': 1, 'software': 1, 'sdlc': 1, 'agile': 1, 'excellent': 1, 'knowledge': 1, 'multithreading': 1, 'thread': 1, 'pools': 1, 'oop': 1, 'ooad': 1, 'experienced': 1, 'developing': 1, 'real': 1, 'time': 1, 'low': 1, 'latency': 1, 'applications': 1, 'exposure': 1, 'message': 1, 'driven': 1}\n",
      "https://www.indeed.com/viewjob?jk=efe5c89cdbcb3dab&\"1ecjtctdvf1ki800\"&from=serp&vjs=3\n",
      "{'responsibilities': 1, '\\n\\n': 3, 'java': 2, 'developer': 1, 'position': 1, 'help': 1, 'analyze': 1, 'user': 1, 'needs': 1, 'define': 1, 'site': 1, 'objectives': 1, 'use': 1, 'programming': 1, 'languages': 2, 'software': 1, 'build': 1, 'applications': 2, 'design': 1, 'implement': 1, 'efficient': 1, 'ur': 1, 'internet': 1, 'intranet': 1, 'work': 1, 'developers': 1, 'produce': 1, 'optimal': 1, 'outcomes': 1, 'experience': 1, 'required': 2, '1': 2, 'year': 1, 'number': 1, 'posts': 1, 'python': 1, 'spring': 1, 'boot': 1, 'following': 1, 'degrees': 1, 'computer': 1, 'science': 1, 'information': 1, 'technology': 1}\n",
      "https://www.indeed.com/viewjob?jk=24f3aaedcfa1e8e3&\"1ecjtctdvf1ki800\"&from=serp&vjs=3\n",
      "{'comments': 1, '\\n\\n': 5, 'contract': 1, 'hire': 1, 'role': 2, 'pittsburgh': 2, 'location': 1, 'require': 1, 'coding': 1, 'session': 1, 'interview': 2, 'work': 1, 'remote': 1, 'start': 1, 'site': 1, 'restrictions': 1, 'lifted': 1, 'time': 1, 'conversion': 1, 'salary': 1, '80': 1, 'k': 2, '85': 1, 'able': 1, 'accommodate': 1, '90': 1, 'k.': 1, 'video': 1, 'technical': 5, 'required': 4, 'hands': 1, 'description': 1, 'member': 1, 'agile': 1, 'software': 4, 'engineer': 1, 'team': 2, 'responsible': 2, 'building': 1, 'scalable': 1, 'applications': 1, 'digital': 1, 'channels': 1, 'serve': 1, 'customers': 1, 'taking': 1, 'enterprisewide': 1, 'architectural': 1, 'view': 1, 'solutions': 1, 'execution': 1, 'products': 1, 'stack': 2, 'best': 1, 'meets': 1, 'needs': 1, 'platform': 1, 'involved': 1, 'aspect': 1, 'application': 1, 'build': 1, 'process': 1, 'idea': 1, 'generation': 1, 'business': 1, 'analysis': 1, 'design': 2, 'development': 3, 'latest': 1, 'technologies': 1, 'patterns': 1, 'java': 1, 'developer': 1, 'strength': 1, 'end': 1, 'candidates': 1, 'need': 1, 'ui': 1, 'experience': 4, 'angular': 1, '7': 1, '4': 1, 'year': 1, 'formal': 1, 'degree': 1, '35': 1, 'years': 1, 'google': 1, 'cloud': 1, 'certification': 1, 'preferred': 1, 'typescript': 1}\n",
      "https://www.indeed.com/viewjob?jk=55c8aed72c549b29&\"1ecjtctdvf1ki800\"&from=serp&vjs=3\n",
      "{'qualification': 1, 'bachelors': 1, 'masters': 1, 'computer': 2, 'science/': 1, 'engineering/': 2, 'information': 2, 'systems': 1, 'technology/': 1, 'electrical': 1, 'mechanical': 1, 'engineering': 1, 'prior': 1, 'experience': 1, 'computing': 1, 'required': 2, 'train': 1, 'selected': 1, 'candidates': 3, 'valid': 1, 'work': 1, 'authorization': 1, 'need': 1, 'apply': 1, '\\n\\n': 1, 'skills': 1, 'basic': 2, 'knowledge': 2, 'core': 1, 'java': 2, 'c': 1, 'c++': 1, 'coding': 2, 'application': 1, 'development': 1, 'involving': 1, 'designing': 1, 'debugging': 1, 'testing': 1, 'software': 2, 'applications': 1, 'applicable': 1, 'prescribed': 1, 'technologies': 1, 'involve': 1, 'object': 1, 'oriented': 1, 'programming': 2, 'design': 1, 'analysis': 1, 'use': 1, 'methodologies': 1, 'accomplish': 1, 'modeling': 1, 'simulation': 1, 'benefits': 1, 'working': 1, 'itech': 1, 'inc': 1, 'specialize': 1, 'j2ee': 1, 'placement': 1, 'e': 1, 'verified': 1, 'filing': 1, 'h1b': 1, 'green': 1, 'card': 1, 'job': 1, 'technical': 2, 'support': 1, 'interview': 1, 'preparation': 2, 'tips': 1, 'mock': 1, 'interviews': 2, 'functional': 1, 'client': 1, 'free': 1, 'guest': 1, 'house': 1, 'accommodation': 1, 'outstation': 1, 'provision': 1, 'groceries': 1, 'extremely': 1, 'strong': 1, 'sales': 1, 'marketing': 1, 'team': 1, 'solid': 1, 'network': 1, 'fortune': 1, '500': 1, 'clients': 1, 'time': 1, 'pay': 1, 'rolls': 1}\n",
      "[{\"URI\": \"https://www.indeed.com/viewjob?jk=672a3e5e7f151b03&\\\"1ecjtctdvf1ki800\\\"&from=serp&vjs=3\", \"description\": {\"position\": 5, \"overview\": 1, \"java\": 11, \"developer\": 5, \"engineer\": 1, \"3\": 3, \"years\": 6, \"experience\": 12, \"time\": 1, \"benefits\": 2, \"onsite\": 3, \"d.c\": 1, \"reston\": 2, \"virginia\": 3, \"currently\": 2, \"remote\": 2, \"stay\": 1, \"home\": 1, \"orders\": 1, \"lifted\": 1, \"job\": 3, \"scope\": 1, \"responsibilities\": 2, \"serve\": 1, \"team\": 5, \"federal\": 4, \"government\": 2, \"agency\": 1, \"information\": 1, \"sharing\": 1, \"mission\": 1, \"responsible\": 1, \"building\": 1, \"applications\": 4, \"agile\": 3, \"development\": 6, \"methodology\": 1, \"dynamic\": 1, \"works\": 1, \"closely\": 1, \"client\": 6, \"ability\": 6, \"flexible\": 2, \"important\": 1, \"requirements\": 2, \"shift\": 1, \"looking\": 1, \"eager\": 1, \"learn\": 2, \"new\": 3, \"technologies\": 4, \"methodologies\": 1, \"atmosphere\": 1, \"congenial\": 1, \"welcomes\": 1, \"ideas\": 1, \"improve\": 1, \"productivity\": 1, \"simplify\": 1, \"code\": 3, \"ideal\": 2, \"candidate\": 3, \"enjoys\": 1, \"programming\": 2, \"challenges\": 1, \"minimal\": 1, \"direction\": 1, \"able\": 4, \"perform\": 1, \"web\": 6, \"application\": 2, \"design\": 1, \"coding\": 1, \"testing\": 2, \"debugging\": 1, \"enhancements\": 2, \"existing\": 2, \"software\": 4, \"conducted\": 1, \"spring\": 4, \"hibernate\": 3, \"role\": 1, \"include\": 2, \"limited\": 1, \"build\": 4, \"update\": 2, \"8)\": 1, \"end\": 2, \"pages\": 1, \"html\": 2, \"css\": 2, \"angular\": 1, \"ajax\": 1, \"manipulates\": 1, \"content\": 1, \"interacts\": 1, \"systems\": 1, \"services\": 5, \"apis\": 2, \"restful\": 1, \"interface\": 1, \"postgresql\": 2, \"implement\": 1, \"unit\": 1, \"built\": 1, \"components\": 1, \"tools\": 2, \"junit\": 1, \"help\": 1, \"devops\": 1, \"set\": 1, \"continuous\": 2, \"integration\": 1, \"deployment\": 1, \"work\": 7, \"site\": 1, \"location\": 1, \"dc\": 2, \"metro\": 1, \"area\": 3, \"likely\": 1, \"washington\": 2, \"d.c.\": 2, \"and/or\": 1, \"cleared\": 1, \"citizenship\": 1, \"permanent\": 1, \"resident\": 1, \"required\": 2, \"public\": 1, \"trust\": 1, \"clearance\": 1, \"process\": 1, \"candidates\": 2, \"apply\": 1, \"requires\": 1, \"presence\": 1, \"\\n\\n\": 1, \"skills\": 5, \"qualifications\": 1, \"multitask\": 1, \"highly\": 2, \"collaborative\": 2, \"environment\": 1, \"independently\": 2, \"needed\": 1, \"superior\": 1, \"interpersonal\": 1, \"strong\": 1, \"communication\": 2, \"comfortable\": 1, \"working\": 2, \"directly\": 1, \"project\": 1, \"manager\": 1, \"support\": 1, \"emerging\": 1, \"needs\": 1, \"j2ee\": 1, \"5\": 1, \"oo\": 1, \"mvc\": 2, \"javascript\": 1, \"soap\": 1, \"2\": 2, \"designing\": 1, \"developing\": 1, \"similar\": 1, \"relational\": 1, \"databases\": 1, \"boot\": 1, \"security\": 2, \"batch\": 1, \"sql\": 1, \"jpa\": 1, \"maven\": 2, \"gradle\": 1, \"jenkins\": 2, \"exposure\": 4, \"python\": 1, \"django\": 1, \"repository\": 1, \"svn\": 1, \"git\": 1, \"technical\": 1, \"staff\": 2, \"understand\": 1, \"develop\": 1, \"resolves\": 1, \"customer\": 1, \"complaints\": 1, \"responds\": 1, \"suggestions\": 1, \"modifications\": 1, \"participate\": 1, \"documentation\": 1, \"version\": 1, \"description\": 1, \"document\": 1, \"user\": 1, \"manuals\": 1, \"assists\": 1, \"training\": 1, \"experienced\": 1, \"act\": 1, \"leader\": 1, \"complex\": 1, \"projects\": 1, \"participated\": 1, \"scrum\": 1, \"based\": 2, \"pass\": 1, \"basic\": 1, \"background\": 1, \"check\": 2, \"preferred\": 1, \"teams\": 2, \"awesome\": 1, \"setting\": 1, \"mentor\": 1, \"lead\": 1, \"junior\": 1, \"developers\": 1, \"automation\": 1, \"jira\": 1, \"ant\": 1, \"container\": 1, \"like\": 1, \"docker\": 1, \"aws\": 1, \"cloud\": 1, \"ldap\": 1, \"oauth\": 1, \"ad\": 1, \"authentication\": 1, \"elasticsearch\": 1, \"lucene\": 1, \"solr\": 1, \"excellent\": 1, \"education\": 1, \"undergraduate\": 1, \"degree\": 1, \"desired\": 1, \"substituted\": 1, \"4\": 1, \"additional\": 1, \"artemis\": 4, \"consulting\": 5, \"management\": 1, \"firm\": 1, \"inc.\": 1, \"5000\": 1, \"list\": 2, \"fastest\": 1, \"growing\": 2, \"companies\": 3, \"u.s\": 1, \"entrepreneur\": 1, \"360\": 1, \"chamber\": 1, \"commerce\": 1, \"fantastic\": 1, \"50\": 1, \"self\": 1, \"motivated\": 1, \"focused\": 1, \"creating\": 1, \"value\": 1, \"clients\": 1, \"company\": 1, \"opportunity\": 2, \"grow\": 1, \"peers\": 1, \"believe\": 1, \"getting\": 1, \"having\": 1, \"life\": 1, \"balance\": 1, \"offer\": 1, \"competitive\": 1, \"salaries\": 1, \"comprehensive\": 1, \"package\": 1, \"including\": 1, \"employer\": 2, \"subsidized\": 1, \"health\": 1, \"dental\": 1, \"vision\": 1, \"insurance\": 1, \"401(k\": 1, \"matching\": 1, \"10\": 1, \"paid\": 2, \"holidays\": 1, \"vacation\": 1, \"sick\": 1, \"leave\": 1, \"equal\": 2, \"committed\": 1, \"diversity\": 1, \"inclusion\": 1, \"qualified\": 1, \"receive\": 1, \"consideration\": 1, \"employment\": 2, \"regard\": 1, \"disability\": 1, \"race\": 1, \"color\": 1, \"religious\": 1, \"creed\": 1, \"national\": 1, \"origin\": 1, \"sexual\": 1, \"orientation\": 1, \"gender\": 1, \"identity\": 1, \"age\": 1, \"principals\": 1, \"recruiters\": 1, \"contact\": 2, \"poster\": 1, \"unsolicited\": 1, \"offers\": 1, \"utilizes\": 1, \"e\": 1, \"verify\": 1, \"authorization\": 1, \"eeo\": 1, \"aa\": 1, \"f\": 1, \"m\": 1, \"vet\": 1, \"disabled\": 1}, \"summary\": [\"position\", \"overview\", \"java\", \"developer\", \"engineer\", \"3\", \"years\", \"experience\", \"time\", \"benefits\", \"onsite\", \"d.c\", \"reston\", \"virginia\", \"currently\", \"remote\", \"stay\", \"home\", \"orders\", \"lifted\", \"job\", \"scope\", \"responsibilities\", \"serve\", \"team\", \"federal\", \"government\", \"agency\", \"information\", \"sharing\", \"mission\", \"responsible\", \"building\", \"applications\", \"agile\", \"development\", \"methodology\", \"dynamic\", \"works\", \"closely\", \"client\", \"ability\", \"flexible\", \"important\", \"requirements\", \"shift\", \"looking\", \"eager\", \"learn\", \"new\", \"technologies\", \"methodologies\", \"atmosphere\", \"congenial\", \"welcomes\", \"ideas\", \"improve\", \"productivity\", \"simplify\", \"code\", \"ideal\", \"candidate\", \"enjoys\", \"programming\", \"challenges\", \"minimal\", \"direction\", \"able\", \"perform\", \"web\", \"application\", \"design\", \"coding\", \"testing\", \"debugging\", \"enhancements\", \"existing\", \"software\", \"conducted\", \"spring\", \"hibernate\", \"role\", \"include\", \"limited\", \"build\", \"update\", \"8)\", \"end\", \"pages\", \"html\", \"css\", \"angular\", \"ajax\", \"manipulates\", \"content\", \"interacts\", \"systems\", \"services\", \"apis\", \"restful\", \"interface\", \"postgresql\", \"implement\", \"unit\", \"built\", \"components\", \"tools\", \"junit\", \"help\", \"devops\", \"set\", \"continuous\", \"integration\", \"deployment\", \"work\", \"site\", \"location\", \"dc\", \"metro\", \"area\", \"likely\", \"washington\", \"d.c.\", \"and/or\", \"cleared\", \"citizenship\", \"permanent\", \"resident\", \"required\", \"public\", \"trust\", \"clearance\", \"process\", \"candidates\", \"apply\", \"requires\", \"presence\", \"\\n\\n\", \"skills\", \"qualifications\", \"multitask\", \"highly\", \"collaborative\", \"environment\", \"independently\", \"needed\", \"superior\", \"interpersonal\", \"strong\", \"communication\", \"comfortable\", \"working\", \"directly\", \"project\", \"manager\", \"support\", \"emerging\", \"needs\", \"j2ee\", \"5\", \"oo\", \"mvc\", \"javascript\", \"soap\", \"2\", \"designing\", \"developing\", \"similar\", \"relational\", \"databases\", \"boot\", \"security\", \"batch\", \"sql\", \"jpa\", \"maven\", \"gradle\", \"jenkins\", \"exposure\", \"python\", \"django\", \"repository\", \"svn\", \"git\", \"technical\", \"staff\", \"understand\", \"develop\", \"resolves\", \"customer\", \"complaints\", \"responds\", \"suggestions\", \"modifications\", \"participate\", \"documentation\", \"version\", \"description\", \"document\", \"user\", \"manuals\", \"assists\", \"training\", \"experienced\", \"act\", \"leader\", \"complex\", \"projects\", \"participated\", \"scrum\", \"based\", \"pass\", \"basic\", \"background\", \"check\", \"preferred\", \"teams\", \"awesome\", \"setting\", \"mentor\", \"lead\", \"junior\", \"developers\", \"automation\", \"jira\", \"ant\", \"container\", \"like\", \"docker\", \"aws\", \"cloud\", \"ldap\", \"oauth\", \"ad\", \"authentication\", \"elasticsearch\", \"lucene\", \"solr\", \"excellent\", \"education\", \"undergraduate\", \"degree\", \"desired\", \"substituted\", \"4\", \"additional\", \"artemis\", \"consulting\", \"management\", \"firm\", \"inc.\", \"5000\", \"list\", \"fastest\", \"growing\", \"companies\", \"u.s\", \"entrepreneur\", \"360\", \"chamber\", \"commerce\", \"fantastic\", \"50\", \"self\", \"motivated\", \"focused\", \"creating\", \"value\", \"clients\", \"company\", \"opportunity\", \"grow\", \"peers\", \"believe\", \"getting\", \"having\", \"life\", \"balance\", \"offer\", \"competitive\", \"salaries\", \"comprehensive\", \"package\", \"including\", \"employer\", \"subsidized\", \"health\", \"dental\", \"vision\", \"insurance\", \"401(k\", \"matching\", \"10\", \"paid\", \"holidays\", \"vacation\", \"sick\", \"leave\", \"equal\", \"committed\", \"diversity\", \"inclusion\", \"qualified\", \"receive\", \"consideration\", \"employment\", \"regard\", \"disability\", \"race\", \"color\", \"religious\", \"creed\", \"national\", \"origin\", \"sexual\", \"orientation\", \"gender\", \"identity\", \"age\", \"principals\", \"recruiters\", \"contact\", \"poster\", \"unsolicited\", \"offers\", \"utilizes\", \"e\", \"verify\", \"authorization\", \"eeo\", \"aa\", \"f\", \"m\", \"vet\", \"disabled\"]}, {\"URI\": \"https://www.indeed.com/viewjob?jk=e145277ca277fd6b&\\\"1ecjtctdvf1ki800\\\"&from=serp&vjs=3\", \"description\": {\"java\": 6, \"backend\": 2, \"developer\": 2, \"\\n\\n\": 11, \"team\": 4, \"capco\": 5, \"technology\": 3, \"dedicated\": 1, \"financial\": 1, \"services\": 2, \"industries\": 1, \"professionals\": 1, \"combine\": 1, \"innovative\": 1, \"thinking\": 3, \"unrivalled\": 1, \"industry\": 2, \"domain\": 1, \"expertise\": 2, \"offer\": 2, \"clients\": 3, \"consulting\": 1, \"complex\": 2, \"package\": 1, \"integration\": 1, \"transformation\": 1, \"delivery\": 2, \"managed\": 1, \"organizations\": 1, \"forward\": 1, \"collaborative\": 1, \"efficient\": 1, \"approach\": 2, \"help\": 1, \"successfully\": 1, \"innovate\": 1, \"increase\": 1, \"revenue\": 1, \"manage\": 1, \"risk\": 1, \"regulatory\": 1, \"change\": 1, \"reduce\": 1, \"costs\": 1, \"enhance\": 1, \"controls\": 1, \"teams\": 1, \"stay\": 1, \"forefront\": 1, \"trends\": 1, \"technologies\": 2, \"driving\": 1, \"innovation\": 3, \"strategy\": 1, \"launch\": 1, \"adept\": 1, \"delivering\": 1, \"product\": 1, \"lifecycle\": 1, \"job\": 1, \"member\": 1, \"bring\": 2, \"practical\": 1, \"knowledge\": 2, \"agile\": 1, \"development\": 3, \"methodologies\": 1, \"engineering\": 2, \"best\": 1, \"practices\": 2, \"use\": 1, \"experience\": 4, \"skills\": 5, \"contribute\": 3, \"quality\": 1, \"implementation\": 1, \"software\": 2, \"products\": 1, \"customers\": 1, \"perform\": 1, \"hands\": 1, \"adoption\": 1, \"modern\": 1, \"spring\": 3, \"boot\": 3, \"rest\": 2, \"microservices\": 2, \"mongo\": 3, \"db\": 3, \"aws\": 3, \"cloud\": 3, \"work\": 3, \"closely\": 1, \"manager\": 1, \"understand\": 1, \"needs\": 1, \"client\": 1, \"stakeholder\": 1, \"management\": 1, \"demonstrate\": 1, \"passion\": 1, \"learning\": 1, \"willingness\": 2, \"adopt\": 1, \"new\": 1, \"culture\": 2, \"ideas\": 1, \"continuous\": 1, \"improvement\": 1, \"great\": 1, \"attitude\": 1, \"solid\": 1, \"communication\": 2, \"learn\": 1, \"collaborate\": 1, \"ensure\": 1, \"clear\": 1, \"documentation\": 1, \"created\": 1, \"modified\": 1, \"functionality\": 1, \"responsible\": 1, \"interfacing\": 1, \"influencing\": 1, \"business\": 1, \"lines\": 1, \"developing\": 1, \"applications\": 1, \"8\": 1, \"high\": 1, \"level\": 1, \"tech\": 1, \"like\": 2, \"implementing\": 1, \"solutions\": 1, \"azure\": 1, \"google\": 1, \"willing\": 1, \"developers\": 1, \"company\": 3, \"continuously\": 1, \"improve\": 1, \"strong\": 1, \"critical\": 1, \"excellent\": 1, \"ability\": 1, \"liaise\": 1, \"influence\": 1, \"range\": 1, \"internal\": 1, \"external\": 1, \"stakeholders\": 1, \"bachelor\": 1, \"degree\": 1, \"join\": 1, \"supports\": 1, \"encourages\": 1, \"entrepreneurial\": 1, \"outlook\": 1, \"independent\": 1, \"organizational\": 1, \"charts\": 1, \"layers\": 1, \"\\u2013\": 1, \"operate\": 1, \"little\": 1, \"hierarchy\": 1, \"want\": 1, \"employees\": 2, \"feel\": 1, \"firm\": 1, \"highly\": 2, \"competitive\": 1, \"benefits\": 1, \"including\": 1, \"medical\": 1, \"dental\": 1, \"vision\": 1, \"insurance\": 1, \"401(k\": 1, \"plan\": 1, \"tuition\": 1, \"reimbursement\": 1, \"focused\": 1, \"creation\": 1, \"lasting\": 1, \"value\": 1, \"ready\": 1, \"step\": 1, \"sounds\": 1, \"love\": 1, \"hear\": 1, \"opportunity\": 1, \"difference\": 1, \"successful\": 1, \"significant\": 1, \"growth\": 1, \"trajectory\": 1}, \"summary\": [\"java\", \"backend\", \"developer\", \"\\n\\n\", \"team\", \"capco\", \"technology\", \"dedicated\", \"financial\", \"services\", \"industries\", \"professionals\", \"combine\", \"innovative\", \"thinking\", \"unrivalled\", \"industry\", \"domain\", \"expertise\", \"offer\", \"clients\", \"consulting\", \"complex\", \"package\", \"integration\", \"transformation\", \"delivery\", \"managed\", \"organizations\", \"forward\", \"collaborative\", \"efficient\", \"approach\", \"help\", \"successfully\", \"innovate\", \"increase\", \"revenue\", \"manage\", \"risk\", \"regulatory\", \"change\", \"reduce\", \"costs\", \"enhance\", \"controls\", \"teams\", \"stay\", \"forefront\", \"trends\", \"technologies\", \"driving\", \"innovation\", \"strategy\", \"launch\", \"adept\", \"delivering\", \"product\", \"lifecycle\", \"job\", \"member\", \"bring\", \"practical\", \"knowledge\", \"agile\", \"development\", \"methodologies\", \"engineering\", \"best\", \"practices\", \"use\", \"experience\", \"skills\", \"contribute\", \"quality\", \"implementation\", \"software\", \"products\", \"customers\", \"perform\", \"hands\", \"adoption\", \"modern\", \"spring\", \"boot\", \"rest\", \"microservices\", \"mongo\", \"db\", \"aws\", \"cloud\", \"work\", \"closely\", \"manager\", \"understand\", \"needs\", \"client\", \"stakeholder\", \"management\", \"demonstrate\", \"passion\", \"learning\", \"willingness\", \"adopt\", \"new\", \"culture\", \"ideas\", \"continuous\", \"improvement\", \"great\", \"attitude\", \"solid\", \"communication\", \"learn\", \"collaborate\", \"ensure\", \"clear\", \"documentation\", \"created\", \"modified\", \"functionality\", \"responsible\", \"interfacing\", \"influencing\", \"business\", \"lines\", \"developing\", \"applications\", \"8\", \"high\", \"level\", \"tech\", \"like\", \"implementing\", \"solutions\", \"azure\", \"google\", \"willing\", \"developers\", \"company\", \"continuously\", \"improve\", \"strong\", \"critical\", \"excellent\", \"ability\", \"liaise\", \"influence\", \"range\", \"internal\", \"external\", \"stakeholders\", \"bachelor\", \"degree\", \"join\", \"supports\", \"encourages\", \"entrepreneurial\", \"outlook\", \"independent\", \"organizational\", \"charts\", \"layers\", \"\\u2013\", \"operate\", \"little\", \"hierarchy\", \"want\", \"employees\", \"feel\", \"firm\", \"highly\", \"competitive\", \"benefits\", \"including\", \"medical\", \"dental\", \"vision\", \"insurance\", \"401(k\", \"plan\", \"tuition\", \"reimbursement\", \"focused\", \"creation\", \"lasting\", \"value\", \"ready\", \"step\", \"sounds\", \"love\", \"hear\", \"opportunity\", \"difference\", \"successful\", \"significant\", \"growth\", \"trajectory\"]}, {\"URI\": \"https://www.indeed.com/viewjob?jk=6cab4f2b8ace4a0e&\\\"1ecjtctdvf1ki800\\\"&from=serp&vjs=3\", \"description\": {\"job\": 3, \"description\": 1, \"skill\": 1, \"java\": 3, \"developer\": 2, \"role\": 2, \"t3\": 1, \"t2\": 1, \"interested\": 1, \"cycle\": 1, \"development\": 4, \"working\": 3, \"collaboratively\": 1, \"diverse\": 1, \"suite\": 1, \"clients\": 2, \"team\": 4, \"cares\": 2, \"growth\": 2, \"join\": 3, \"virtusa\": 5, \"opportunity\": 2, \"tap\": 1, \"knowledge\": 3, \"develop\": 2, \"design\": 5, \"manage\": 1, \"wide\": 1, \"range\": 1, \"innovative\": 1, \"projects\": 2, \"sound\": 1, \"like\": 1, \"fun\": 1, \"read\": 1, \"\\n\\n\": 3, \"day\": 2, \"responsibilities\": 1, \"include\": 1, \"\\n \": 24, \"utilizing\": 1, \"deep\": 1, \"technical\": 2, \"optimize\": 1, \"business\": 2, \"processes\": 1, \"multiple\": 2, \"systems\": 3, \"developing\": 1, \"detailed\": 1, \"analysis\": 1, \"specifications\": 1, \"based\": 1, \"functional\": 2, \"requirements\": 2, \"collaborating\": 1, \"fellow\": 1, \"developers\": 1, \"solve\": 1, \"problems\": 1, \"creating\": 1, \"user\": 1, \"acceptance\": 1, \"testing\": 2, \"performance\": 1, \"plans\": 1, \"validate\": 1, \"support\": 1, \"customizations\": 1, \"features\": 1, \"functionalities\": 1, \"migrating\": 1, \"internal\": 1, \"external\": 1, \"clouds\": 1, \"microservices\": 2, \"architecture\": 1, \"evaluating\": 1, \"open\": 1, \"source\": 1, \"vendor\": 1, \"products\": 1, \"qualifications\": 2, \"bachelor\": 1, \"degree\": 1, \"computer\": 1, \"science\": 1, \"engineering\": 1, \"related\": 1, \"field\": 1, \"equivalent\": 1, \"professional\": 2, \"experience\": 13, \"5\": 2, \"years\": 3, \"software\": 2, \"3\": 2, \"j2ee\": 1, \"lifecycle\": 1, \"delivery\": 2, \"complex\": 1, \"including\": 1, \"build\": 1, \"test\": 1, \"deployment\": 1, \"confident\": 1, \"problem\": 1, \"solver\": 1, \"communicator\": 1, \"meticulous\": 1, \"strong\": 4, \"attention\": 1, \"detail\": 1, \"demonstrated\": 1, \"cross\": 1, \"player\": 1, \"prior\": 1, \"building\": 4, \"internet\": 2, \"platforms\": 2, \"ground\": 1, \"understanding\": 1, \"patterns\": 1, \"architectures\": 2, \"enterprise\": 1, \"industry\": 1, \"best\": 1, \"practices\": 1, \"agile\": 1, \"environment\": 3, \"expert\": 1, \"level\": 1, \"designing\": 1, \"rest\": 1, \"soap\": 1, \"web\": 1, \"services\": 1, \"ajax\": 1, \"plus\": 1, \"oracle\": 1, \"sql\": 1, \"preferred\": 1, \"messaging\": 1, \"event\": 1, \"driven\": 1, \"database\": 1, \"high\": 1, \"volume\": 1, \"mission\": 1, \"critical\": 1, \"applications\": 1, \"distributed\": 1, \"scale\": 1, \"fast\": 1, \"paced\": 1, \"written\": 1, \"verbal\": 1, \"communication\": 1, \"skills\": 4, \"interpersonal\": 1, \"time\": 2, \"management\": 1, \"analytical\": 1, \"troubleshooting\": 1, \"teamwork\": 1, \"quality\": 1, \"life\": 1, \"personal\": 1, \"values\": 1, \"proud\": 1, \"embody\": 1, \"21,000\": 1, \"people\": 1, \"globally\": 1, \"\\u2014\": 1, \"seeks\": 1, \"provide\": 2, \"exciting\": 1, \"opportunities\": 1, \"work\": 1, \"state\": 1, \"art\": 1, \"technologies\": 1, \"career\": 1, \"great\": 3, \"minds\": 2, \"potential\": 1, \"comes\": 1, \"value\": 1, \"collaboration\": 1, \"company\": 1, \"seek\": 1, \"dynamic\": 1, \"place\": 1, \"nurture\": 1, \"new\": 1, \"ideas\": 1, \"foster\": 1, \"excellence\": 1, \"founded\": 1, \"principles\": 1, \"equal\": 1, \"discriminate\": 1, \"basis\": 3, \"race\": 1, \"religion\": 1, \"color\": 1, \"sex\": 1, \"gender\": 1, \"identity\": 1, \"sexual\": 1, \"orientation\": 1, \"age\": 1, \"non\": 1, \"disqualifying\": 1, \"physical\": 1, \"mental\": 1, \"disability\": 1, \"national\": 1, \"origin\": 1, \"veteran\": 1, \"status\": 1, \"covered\": 1, \"appropriate\": 1, \"law\": 1, \"employment\": 1, \"decided\": 1, \"merit\": 1, \"need\": 1, \"learn\": 1, \"www.virtusa.com\": 1, \"\\n\\n\\n\": 1, \"primary\": 1, \"location\": 1, \"fremont\": 1, \"schedule\": 1, \"type\": 1, \"experienced\": 1, \"travel\": 1, \"posting\": 1, \"06/07/2020\": 1, \"7:43:46\": 1, \"pm\": 1}, \"summary\": [\"job\", \"description\", \"skill\", \"java\", \"developer\", \"role\", \"t3\", \"t2\", \"interested\", \"cycle\", \"development\", \"working\", \"collaboratively\", \"diverse\", \"suite\", \"clients\", \"team\", \"cares\", \"growth\", \"join\", \"virtusa\", \"opportunity\", \"tap\", \"knowledge\", \"develop\", \"design\", \"manage\", \"wide\", \"range\", \"innovative\", \"projects\", \"sound\", \"like\", \"fun\", \"read\", \"\\n\\n\", \"day\", \"responsibilities\", \"include\", \"\\n \", \"utilizing\", \"deep\", \"technical\", \"optimize\", \"business\", \"processes\", \"multiple\", \"systems\", \"developing\", \"detailed\", \"analysis\", \"specifications\", \"based\", \"functional\", \"requirements\", \"collaborating\", \"fellow\", \"developers\", \"solve\", \"problems\", \"creating\", \"user\", \"acceptance\", \"testing\", \"performance\", \"plans\", \"validate\", \"support\", \"customizations\", \"features\", \"functionalities\", \"migrating\", \"internal\", \"external\", \"clouds\", \"microservices\", \"architecture\", \"evaluating\", \"open\", \"source\", \"vendor\", \"products\", \"qualifications\", \"bachelor\", \"degree\", \"computer\", \"science\", \"engineering\", \"related\", \"field\", \"equivalent\", \"professional\", \"experience\", \"5\", \"years\", \"software\", \"3\", \"j2ee\", \"lifecycle\", \"delivery\", \"complex\", \"including\", \"build\", \"test\", \"deployment\", \"confident\", \"problem\", \"solver\", \"communicator\", \"meticulous\", \"strong\", \"attention\", \"detail\", \"demonstrated\", \"cross\", \"player\", \"prior\", \"building\", \"internet\", \"platforms\", \"ground\", \"understanding\", \"patterns\", \"architectures\", \"enterprise\", \"industry\", \"best\", \"practices\", \"agile\", \"environment\", \"expert\", \"level\", \"designing\", \"rest\", \"soap\", \"web\", \"services\", \"ajax\", \"plus\", \"oracle\", \"sql\", \"preferred\", \"messaging\", \"event\", \"driven\", \"database\", \"high\", \"volume\", \"mission\", \"critical\", \"applications\", \"distributed\", \"scale\", \"fast\", \"paced\", \"written\", \"verbal\", \"communication\", \"skills\", \"interpersonal\", \"time\", \"management\", \"analytical\", \"troubleshooting\", \"teamwork\", \"quality\", \"life\", \"personal\", \"values\", \"proud\", \"embody\", \"21,000\", \"people\", \"globally\", \"\\u2014\", \"seeks\", \"provide\", \"exciting\", \"opportunities\", \"work\", \"state\", \"art\", \"technologies\", \"career\", \"great\", \"minds\", \"potential\", \"comes\", \"value\", \"collaboration\", \"company\", \"seek\", \"dynamic\", \"place\", \"nurture\", \"new\", \"ideas\", \"foster\", \"excellence\", \"founded\", \"principles\", \"equal\", \"discriminate\", \"basis\", \"race\", \"religion\", \"color\", \"sex\", \"gender\", \"identity\", \"sexual\", \"orientation\", \"age\", \"non\", \"disqualifying\", \"physical\", \"mental\", \"disability\", \"national\", \"origin\", \"veteran\", \"status\", \"covered\", \"appropriate\", \"law\", \"employment\", \"decided\", \"merit\", \"need\", \"learn\", \"www.virtusa.com\", \"\\n\\n\\n\", \"primary\", \"location\", \"fremont\", \"schedule\", \"type\", \"experienced\", \"travel\", \"posting\", \"06/07/2020\", \"7:43:46\", \"pm\"]}, {\"URI\": \"https://www.indeed.com/viewjob?jk=3d40147bd24ac52a&\\\"1ecjtctdvf1ki800\\\"&from=serp&vjs=3\", \"description\": {\"published\": 1, \"june\": 1, \"25\": 1, \"2020\": 1, \"location\": 2, \"waukegan\": 2, \"il\": 2, \"united\": 1, \"states\": 1, \"america\": 1, \"job\": 2, \"type\": 1, \"contract\": 3, \"description\": 1, \"title\": 1, \"as/400\": 5, \"rpg\": 9, \"developer\": 5, \"java\": 2, \"id\": 1, \"10679\": 1, \"salary\": 1, \"70\": 1, \"hr\": 2, \"w2\": 1, \"77\": 1, \"c2c\": 1, \"status\": 1, \"hire\": 1, \"client\": 2, \"join\": 1, \"leader\": 1, \"supply\": 1, \"chain\": 1, \"industry\": 1, \"position\": 1, \"looking\": 1, \"responsible\": 1, \"development\": 3, \"maintenance\": 1, \"based\": 2, \"applications\": 1, \"responsibilities\": 1, \"design\": 1, \"develop\": 1, \"implement\": 1, \"support\": 1, \"maintain\": 2, \"complex\": 1, \"application\": 1, \"troubleshoot\": 1, \"resolve\": 1, \"issues\": 1, \"code\": 2, \"quality\": 1, \"unit\": 1, \"testing\": 1, \"document\": 1, \"appropriately\": 1, \"communicate\": 1, \"business\": 1, \"analysts\": 1, \"gather\": 1, \"accurate\": 1, \"specifications\": 1, \"collaborate\": 1, \"team\": 1, \"members\": 1, \"projects\": 1, \"requirements\": 1, \"3\": 1, \"years\": 1, \"experience\": 2, \"knowledge\": 3, \"iv\": 1, \"ile\": 1, \"db2/400\": 1, \"tables\": 1, \"clp\": 1, \"sql\": 1, \"connectivity\": 1, \"pc\": 1, \"internet\": 1, \"functions\": 1, \"needed\": 1, \"bachelor\": 1, \"degree\": 1, \"required\": 1}, \"summary\": [\"published\", \"june\", \"25\", \"2020\", \"location\", \"waukegan\", \"il\", \"united\", \"states\", \"america\", \"job\", \"type\", \"contract\", \"description\", \"title\", \"as/400\", \"rpg\", \"developer\", \"java\", \"id\", \"10679\", \"salary\", \"70\", \"hr\", \"w2\", \"77\", \"c2c\", \"status\", \"hire\", \"client\", \"join\", \"leader\", \"supply\", \"chain\", \"industry\", \"position\", \"looking\", \"responsible\", \"development\", \"maintenance\", \"based\", \"applications\", \"responsibilities\", \"design\", \"develop\", \"implement\", \"support\", \"maintain\", \"complex\", \"application\", \"troubleshoot\", \"resolve\", \"issues\", \"code\", \"quality\", \"unit\", \"testing\", \"document\", \"appropriately\", \"communicate\", \"business\", \"analysts\", \"gather\", \"accurate\", \"specifications\", \"collaborate\", \"team\", \"members\", \"projects\", \"requirements\", \"3\", \"years\", \"experience\", \"knowledge\", \"iv\", \"ile\", \"db2/400\", \"tables\", \"clp\", \"sql\", \"connectivity\", \"pc\", \"internet\", \"functions\", \"needed\", \"bachelor\", \"degree\", \"required\"]}, {\"URI\": \"https://www.indeed.com/viewjob?jk=55a768d64a1781a1&\\\"1ecjtctdvf1ki800\\\"&from=serp&vjs=3\", \"description\": {\"successful\": 1, \"candidate\": 1, \"work\": 1, \"small\": 1, \"development\": 3, \"team\": 1, \"capture\": 2, \"product\": 1, \"line\": 1, \"job\": 1, \"leverage\": 1, \"latest\": 1, \"micro\": 1, \"service\": 1, \"cloud\": 2, \"ready\": 1, \"technologies\": 3, \"fully\": 1, \"adapt\": 1, \"responsibilities\": 1, \"developing\": 1, \"high\": 2, \"volume\": 1, \"low\": 1, \"latency\": 1, \"applications\": 1, \"mission\": 1, \"critical\": 1, \"systems\": 1, \"delivering\": 1, \"availability\": 1, \"performance\": 1, \"contributing\": 1, \"phases\": 1, \"lifecycle\": 1, \"writing\": 1, \"designed\": 1, \"testable\": 1, \"efficient\": 1, \"code\": 1, \"ensure\": 1, \"designs\": 1, \"compliance\": 1, \"specifications\": 1, \"prepare\": 1, \"produce\": 1, \"releases\": 1, \"software\": 1, \"components\": 1, \"support\": 1, \"continuous\": 2, \"improvement\": 1, \"investigating\": 1, \"alternatives\": 1, \"presenting\": 1, \"architectural\": 1, \"review\": 1, \"requirements\": 1, \"bs\": 1, \"degree\": 1, \"computer\": 1, \"science\": 1, \"engineering\": 1, \"related\": 1, \"subject\": 1, \"2\": 1, \"years\": 1, \"java\": 2, \"web\": 1, \"application\": 1, \"object\": 1, \"oriented\": 1, \"analysis\": 1, \"design\": 2, \"common\": 1, \"patterns\": 1, \"understanding\": 1, \"knowledge\": 1, \"relational\": 1, \"databases\": 1, \"sql\": 1, \"orm\": 1, \"jpa2\": 1, \"hibernate\": 1, \"experience\": 2, \"spring\": 1, \"framework\": 1, \"integration\": 1, \"associated\": 1, \"toolsets\": 1, \"linux\": 1, \"unix\": 1, \"experienced\": 1}, \"summary\": [\"successful\", \"candidate\", \"work\", \"small\", \"development\", \"team\", \"capture\", \"product\", \"line\", \"job\", \"leverage\", \"latest\", \"micro\", \"service\", \"cloud\", \"ready\", \"technologies\", \"fully\", \"adapt\", \"responsibilities\", \"developing\", \"high\", \"volume\", \"low\", \"latency\", \"applications\", \"mission\", \"critical\", \"systems\", \"delivering\", \"availability\", \"performance\", \"contributing\", \"phases\", \"lifecycle\", \"writing\", \"designed\", \"testable\", \"efficient\", \"code\", \"ensure\", \"designs\", \"compliance\", \"specifications\", \"prepare\", \"produce\", \"releases\", \"software\", \"components\", \"support\", \"continuous\", \"improvement\", \"investigating\", \"alternatives\", \"presenting\", \"architectural\", \"review\", \"requirements\", \"bs\", \"degree\", \"computer\", \"science\", \"engineering\", \"related\", \"subject\", \"2\", \"years\", \"java\", \"web\", \"application\", \"object\", \"oriented\", \"analysis\", \"design\", \"common\", \"patterns\", \"understanding\", \"knowledge\", \"relational\", \"databases\", \"sql\", \"orm\", \"jpa2\", \"hibernate\", \"experience\", \"spring\", \"framework\", \"integration\", \"associated\", \"toolsets\", \"linux\", \"unix\", \"experienced\"]}, {\"URI\": \"https://www.indeed.com/viewjob?jk=22d38fbe097d4988&\\\"1ecjtctdvf1ki800\\\"&from=serp&vjs=3\", \"description\": {\"location\": 1, \"remote\": 1, \"requirements\": 2, \"\\n\\n\": 2, \"java\": 1, \"j2ee\": 1, \"technologies\": 1, \"ecosystem\": 1, \"jsp\": 1, \"spring\": 1, \"jdbc\": 1, \"hibernate\": 1, \"maven\": 1, \"tomcat\": 1, \"etc\": 3, \"web\": 2, \"based\": 1, \"application\": 1, \"development\": 2, \"experience\": 3, \"html\": 1, \"html5\": 1, \"javascript\": 1, \"frameworks\": 1, \"jquery\": 1, \"prototype\": 1, \"\\n\\n\\n\": 1, \"nice\": 1, \"knows\": 1, \"write\": 1, \"services\": 1, \"soap\": 1, \"rest\": 1, \"ajax\": 1, \"database\": 1, \"systems\": 2, \"sql\": 1, \"rdbms\": 1, \"nosql\": 1, \"scripting\": 1, \"languages\": 1, \"shell\": 1, \"perl\": 1, \"python\": 1, \"documentation\": 1, \"skills\": 2, \"crypto\": 1, \"ssl\": 1, \"tls\": 1, \"pki\": 1, \"network\": 1, \"protocols\": 1, \"user\": 1, \"programming\": 1, \"level\": 1, \"secure\": 1, \"coding\": 1, \"practices\": 1, \"distributed\": 1, \"good\": 1, \"english\": 1, \"masters\": 1, \"degree\": 1, \"information\": 1, \"technology\": 1, \"similar\": 1, \"applying\": 1, \"send\": 1, \"following\": 1, \"jobs@nxlog.org\": 1, \"short\": 1, \"cover\": 1, \"letter\": 1, \"explaining\": 1, \"interested\": 1, \"position\": 1, \"cv\": 1, \"resume\": 1, \"salary\": 1, \"hourly\": 1, \"rate\": 1}, \"summary\": [\"location\", \"remote\", \"requirements\", \"\\n\\n\", \"java\", \"j2ee\", \"technologies\", \"ecosystem\", \"jsp\", \"spring\", \"jdbc\", \"hibernate\", \"maven\", \"tomcat\", \"etc\", \"web\", \"based\", \"application\", \"development\", \"experience\", \"html\", \"html5\", \"javascript\", \"frameworks\", \"jquery\", \"prototype\", \"\\n\\n\\n\", \"nice\", \"knows\", \"write\", \"services\", \"soap\", \"rest\", \"ajax\", \"database\", \"systems\", \"sql\", \"rdbms\", \"nosql\", \"scripting\", \"languages\", \"shell\", \"perl\", \"python\", \"documentation\", \"skills\", \"crypto\", \"ssl\", \"tls\", \"pki\", \"network\", \"protocols\", \"user\", \"programming\", \"level\", \"secure\", \"coding\", \"practices\", \"distributed\", \"good\", \"english\", \"masters\", \"degree\", \"information\", \"technology\", \"similar\", \"applying\", \"send\", \"following\", \"jobs@nxlog.org\", \"short\", \"cover\", \"letter\", \"explaining\", \"interested\", \"position\", \"cv\", \"resume\", \"salary\", \"hourly\", \"rate\"]}, {\"URI\": \"https://www.indeed.com/viewjob?jk=c57805c7bfa71586&\\\"1ecjtctdvf1ki800\\\"&from=serp&vjs=3\", \"description\": {\"required\": 1, \"skills\": 3, \"/qualifications\": 1, \"\\u2022\": 13, \"strong\": 4, \"verbal\": 1, \"written\": 1, \"communication\": 1, \"goal\": 1, \"client\": 1, \"deadline\": 1, \"oriented\": 2, \"analytical\": 1, \"problem\": 1, \"solving\": 1, \"ability\": 2, \"work\": 2, \"multiple\": 1, \"projects\": 1, \"concurrently\": 1, \"meet\": 1, \"deadlines\": 1, \"globally\": 1, \"distributed\": 2, \"teams\": 1, \"technical\": 1, \"solid\": 1, \"3\": 1, \"5\": 1, \"years\": 1, \"experience\": 5, \"java\": 1, \"springboot\": 1, \"microservices\": 1, \"development\": 2, \"building\": 1, \"service\": 1, \"microservice\": 1, \"style\": 1, \"cloud\": 1, \"based\": 1, \"architectures\": 3, \"hands\": 1, \"jenkins\": 1, \"teamcity\": 1, \"sonar\": 1, \"cube\": 1, \"bitbucket\": 1, \"understanding\": 1, \"different\": 1, \"storage\": 1, \"appropriate\": 1, \"application\": 1, \"software\": 1, \"sdlc\": 1, \"agile\": 1, \"excellent\": 1, \"knowledge\": 1, \"multithreading\": 1, \"thread\": 1, \"pools\": 1, \"oop\": 1, \"ooad\": 1, \"experienced\": 1, \"developing\": 1, \"real\": 1, \"time\": 1, \"low\": 1, \"latency\": 1, \"applications\": 1, \"exposure\": 1, \"message\": 1, \"driven\": 1}, \"summary\": [\"required\", \"skills\", \"/qualifications\", \"\\u2022\", \"strong\", \"verbal\", \"written\", \"communication\", \"goal\", \"client\", \"deadline\", \"oriented\", \"analytical\", \"problem\", \"solving\", \"ability\", \"work\", \"multiple\", \"projects\", \"concurrently\", \"meet\", \"deadlines\", \"globally\", \"distributed\", \"teams\", \"technical\", \"solid\", \"3\", \"5\", \"years\", \"experience\", \"java\", \"springboot\", \"microservices\", \"development\", \"building\", \"service\", \"microservice\", \"style\", \"cloud\", \"based\", \"architectures\", \"hands\", \"jenkins\", \"teamcity\", \"sonar\", \"cube\", \"bitbucket\", \"understanding\", \"different\", \"storage\", \"appropriate\", \"application\", \"software\", \"sdlc\", \"agile\", \"excellent\", \"knowledge\", \"multithreading\", \"thread\", \"pools\", \"oop\", \"ooad\", \"experienced\", \"developing\", \"real\", \"time\", \"low\", \"latency\", \"applications\", \"exposure\", \"message\", \"driven\"]}, {\"URI\": \"https://www.indeed.com/viewjob?jk=efe5c89cdbcb3dab&\\\"1ecjtctdvf1ki800\\\"&from=serp&vjs=3\", \"description\": {\"responsibilities\": 1, \"\\n\\n\": 3, \"java\": 2, \"developer\": 1, \"position\": 1, \"help\": 1, \"analyze\": 1, \"user\": 1, \"needs\": 1, \"define\": 1, \"site\": 1, \"objectives\": 1, \"use\": 1, \"programming\": 1, \"languages\": 2, \"software\": 1, \"build\": 1, \"applications\": 2, \"design\": 1, \"implement\": 1, \"efficient\": 1, \"ur\": 1, \"internet\": 1, \"intranet\": 1, \"work\": 1, \"developers\": 1, \"produce\": 1, \"optimal\": 1, \"outcomes\": 1, \"experience\": 1, \"required\": 2, \"1\": 2, \"year\": 1, \"number\": 1, \"posts\": 1, \"python\": 1, \"spring\": 1, \"boot\": 1, \"following\": 1, \"degrees\": 1, \"computer\": 1, \"science\": 1, \"information\": 1, \"technology\": 1}, \"summary\": [\"responsibilities\", \"\\n\\n\", \"java\", \"developer\", \"position\", \"help\", \"analyze\", \"user\", \"needs\", \"define\", \"site\", \"objectives\", \"use\", \"programming\", \"languages\", \"software\", \"build\", \"applications\", \"design\", \"implement\", \"efficient\", \"ur\", \"internet\", \"intranet\", \"work\", \"developers\", \"produce\", \"optimal\", \"outcomes\", \"experience\", \"required\", \"1\", \"year\", \"number\", \"posts\", \"python\", \"spring\", \"boot\", \"following\", \"degrees\", \"computer\", \"science\", \"information\", \"technology\"]}, {\"URI\": \"https://www.indeed.com/viewjob?jk=24f3aaedcfa1e8e3&\\\"1ecjtctdvf1ki800\\\"&from=serp&vjs=3\", \"description\": {\"comments\": 1, \"\\n\\n\": 5, \"contract\": 1, \"hire\": 1, \"role\": 2, \"pittsburgh\": 2, \"location\": 1, \"require\": 1, \"coding\": 1, \"session\": 1, \"interview\": 2, \"work\": 1, \"remote\": 1, \"start\": 1, \"site\": 1, \"restrictions\": 1, \"lifted\": 1, \"time\": 1, \"conversion\": 1, \"salary\": 1, \"80\": 1, \"k\": 2, \"85\": 1, \"able\": 1, \"accommodate\": 1, \"90\": 1, \"k.\": 1, \"video\": 1, \"technical\": 5, \"required\": 4, \"hands\": 1, \"description\": 1, \"member\": 1, \"agile\": 1, \"software\": 4, \"engineer\": 1, \"team\": 2, \"responsible\": 2, \"building\": 1, \"scalable\": 1, \"applications\": 1, \"digital\": 1, \"channels\": 1, \"serve\": 1, \"customers\": 1, \"taking\": 1, \"enterprisewide\": 1, \"architectural\": 1, \"view\": 1, \"solutions\": 1, \"execution\": 1, \"products\": 1, \"stack\": 2, \"best\": 1, \"meets\": 1, \"needs\": 1, \"platform\": 1, \"involved\": 1, \"aspect\": 1, \"application\": 1, \"build\": 1, \"process\": 1, \"idea\": 1, \"generation\": 1, \"business\": 1, \"analysis\": 1, \"design\": 2, \"development\": 3, \"latest\": 1, \"technologies\": 1, \"patterns\": 1, \"java\": 1, \"developer\": 1, \"strength\": 1, \"end\": 1, \"candidates\": 1, \"need\": 1, \"ui\": 1, \"experience\": 4, \"angular\": 1, \"7\": 1, \"4\": 1, \"year\": 1, \"formal\": 1, \"degree\": 1, \"35\": 1, \"years\": 1, \"google\": 1, \"cloud\": 1, \"certification\": 1, \"preferred\": 1, \"typescript\": 1}, \"summary\": [\"comments\", \"\\n\\n\", \"contract\", \"hire\", \"role\", \"pittsburgh\", \"location\", \"require\", \"coding\", \"session\", \"interview\", \"work\", \"remote\", \"start\", \"site\", \"restrictions\", \"lifted\", \"time\", \"conversion\", \"salary\", \"80\", \"k\", \"85\", \"able\", \"accommodate\", \"90\", \"k.\", \"video\", \"technical\", \"required\", \"hands\", \"description\", \"member\", \"agile\", \"software\", \"engineer\", \"team\", \"responsible\", \"building\", \"scalable\", \"applications\", \"digital\", \"channels\", \"serve\", \"customers\", \"taking\", \"enterprisewide\", \"architectural\", \"view\", \"solutions\", \"execution\", \"products\", \"stack\", \"best\", \"meets\", \"needs\", \"platform\", \"involved\", \"aspect\", \"application\", \"build\", \"process\", \"idea\", \"generation\", \"business\", \"analysis\", \"design\", \"development\", \"latest\", \"technologies\", \"patterns\", \"java\", \"developer\", \"strength\", \"end\", \"candidates\", \"need\", \"ui\", \"experience\", \"angular\", \"7\", \"4\", \"year\", \"formal\", \"degree\", \"35\", \"years\", \"google\", \"cloud\", \"certification\", \"preferred\", \"typescript\"]}, {\"URI\": \"https://www.indeed.com/viewjob?jk=55c8aed72c549b29&\\\"1ecjtctdvf1ki800\\\"&from=serp&vjs=3\", \"description\": {\"qualification\": 1, \"bachelors\": 1, \"masters\": 1, \"computer\": 2, \"science/\": 1, \"engineering/\": 2, \"information\": 2, \"systems\": 1, \"technology/\": 1, \"electrical\": 1, \"mechanical\": 1, \"engineering\": 1, \"prior\": 1, \"experience\": 1, \"computing\": 1, \"required\": 2, \"train\": 1, \"selected\": 1, \"candidates\": 3, \"valid\": 1, \"work\": 1, \"authorization\": 1, \"need\": 1, \"apply\": 1, \"\\n\\n\": 1, \"skills\": 1, \"basic\": 2, \"knowledge\": 2, \"core\": 1, \"java\": 2, \"c\": 1, \"c++\": 1, \"coding\": 2, \"application\": 1, \"development\": 1, \"involving\": 1, \"designing\": 1, \"debugging\": 1, \"testing\": 1, \"software\": 2, \"applications\": 1, \"applicable\": 1, \"prescribed\": 1, \"technologies\": 1, \"involve\": 1, \"object\": 1, \"oriented\": 1, \"programming\": 2, \"design\": 1, \"analysis\": 1, \"use\": 1, \"methodologies\": 1, \"accomplish\": 1, \"modeling\": 1, \"simulation\": 1, \"benefits\": 1, \"working\": 1, \"itech\": 1, \"inc\": 1, \"specialize\": 1, \"j2ee\": 1, \"placement\": 1, \"e\": 1, \"verified\": 1, \"filing\": 1, \"h1b\": 1, \"green\": 1, \"card\": 1, \"job\": 1, \"technical\": 2, \"support\": 1, \"interview\": 1, \"preparation\": 2, \"tips\": 1, \"mock\": 1, \"interviews\": 2, \"functional\": 1, \"client\": 1, \"free\": 1, \"guest\": 1, \"house\": 1, \"accommodation\": 1, \"outstation\": 1, \"provision\": 1, \"groceries\": 1, \"extremely\": 1, \"strong\": 1, \"sales\": 1, \"marketing\": 1, \"team\": 1, \"solid\": 1, \"network\": 1, \"fortune\": 1, \"500\": 1, \"clients\": 1, \"time\": 1, \"pay\": 1, \"rolls\": 1}, \"summary\": [\"qualification\", \"bachelors\", \"masters\", \"computer\", \"science/\", \"engineering/\", \"information\", \"systems\", \"technology/\", \"electrical\", \"mechanical\", \"engineering\", \"prior\", \"experience\", \"computing\", \"required\", \"train\", \"selected\", \"candidates\", \"valid\", \"work\", \"authorization\", \"need\", \"apply\", \"\\n\\n\", \"skills\", \"basic\", \"knowledge\", \"core\", \"java\", \"c\", \"c++\", \"coding\", \"application\", \"development\", \"involving\", \"designing\", \"debugging\", \"testing\", \"software\", \"applications\", \"applicable\", \"prescribed\", \"technologies\", \"involve\", \"object\", \"oriented\", \"programming\", \"design\", \"analysis\", \"use\", \"methodologies\", \"accomplish\", \"modeling\", \"simulation\", \"benefits\", \"working\", \"itech\", \"inc\", \"specialize\", \"j2ee\", \"placement\", \"e\", \"verified\", \"filing\", \"h1b\", \"green\", \"card\", \"job\", \"technical\", \"support\", \"interview\", \"preparation\", \"tips\", \"mock\", \"interviews\", \"functional\", \"client\", \"free\", \"guest\", \"house\", \"accommodation\", \"outstation\", \"provision\", \"groceries\", \"extremely\", \"strong\", \"sales\", \"marketing\", \"team\", \"solid\", \"network\", \"fortune\", \"500\", \"clients\", \"time\", \"pay\", \"rolls\"]}]\n"
     ]
    },
    {
     "name": "stdout",
     "output_type": "stream",
     "text": [
      "400\n"
     ]
    }
   ],
   "source": [
    "import spacy\n",
    "from spacy.lang.en.stop_words import STOP_WORDS\n",
    "from string import punctuation\n",
    "\n",
    "nlp = spacy.blank('en')\n",
    "stopwords = list(STOP_WORDS)\n",
    "punctuation = punctuation +  '\\n'\n",
    "word_frequencies = {}\n",
    "new_word_frequencies = []\n",
    "finalJobDescriptionList = {}\n",
    "jobListFinal = []\n",
    "\n",
    "for s in jobList:\n",
    "    word_frequencies = {}\n",
    "    new_word_frequencies = []\n",
    "    text = str(s.summary)\n",
    "    URI =str(s.URI)\n",
    "    doc = nlp(text)\n",
    "    tokens = [token.text for token in doc]\n",
    "    \n",
    "    for word in doc:\n",
    "             if word.text.lower() not in stopwords:\n",
    "                if word.text.lower() not in punctuation:\n",
    "                    if word.text.lower() not in word_frequencies.keys():\n",
    "                        word_frequencies[word.text.lower()] = 1\n",
    "                        new_word_frequencies.append(word.text.lower())\n",
    "                    else:\n",
    "                        word_frequencies[word.text.lower()] += 1\n",
    "                        \n",
    "    s = Job(URI,word_frequencies,new_word_frequencies)\n",
    "    jobListFinal.append(s)\n",
    "    print(new_word_frequencies)\n",
    "    \n",
    "for s in jobListFinal:\n",
    "    print(s.URI)\n",
    "    print(s.description)\n",
    "    \n",
    "# payload = {jobListFinal}\n",
    "# s3 = Job('John2', 88)\n",
    "\n",
    "# s3JSONData = json.dumps(s3.toJson())\n",
    "# print(s3JSONData)\n",
    "\n",
    "json_string = json.dumps([ob.__dict__ for ob in jobListFinal])\n",
    "print(json_string)\n",
    "\n",
    "payload = {'text1': json_string}\n",
    "\n",
    "response = requests.get(\"http://localhost:8080/getJobs\",params=payload)\n",
    "print(response.status_code)\n",
    "                "
   ]
  },
  {
   "cell_type": "code",
   "execution_count": 210,
   "metadata": {},
   "outputs": [],
   "source": [
    "# NLP tokenizing the keywords\n",
    "\n",
    "text = \"Mid Level Java Developer Are you looking for a new and exciting job? What we are looking for: Excited and energized individuals who will be a good fit for the team. We will train you on the products and what you need to know. What you need to know: Be knowledgeable in JAVA and programming fundamentals. Pluses for experience/understanding web technologies, SEO, javascript, and Databases/security. Why Asponte?/Who We are? We are a small consulting firm and IBM premier business partner. We focus on selling services around the products we sell. We are a tight knit group, who like to have fun. We cater in lunches to the office, have snacks, have a few beers from time to time, and throw a football around to relax. Expected Duties: be trained in Portal and WCM, so that you will be a fully functional member of the team, doing java and WCM development. This can include everything from regular java applications, all the way to html based UI content. Travel can include up to 50%, although we prefer to schedule travel only as it makes sense, saving both our clients time and money To Apply, please use the form on our website to send a copy of your resume and cover letter. In your cover letter you should include the answer to this question: After exploring www.asponte.com[1] how do you see yourself fitting in with us? Any questions do not hesitate to ask 3-5 years java development experience ability to communicate in a professional environment authorization to work in the USA positive flexible attitude\""
   ]
  },
  {
   "cell_type": "code",
   "execution_count": 104,
   "metadata": {},
   "outputs": [
    {
     "name": "stdout",
     "output_type": "stream",
     "text": [
      "{0: {'URI': 'Jr. Java Developer', 'description': {'charleston': 1, 'sc': 1, 'waukegan': 1, 'il': 1, 'united': 2, 'states': 2, 'woodbridge': 1, 'nj': 1, '07095': 1, 'north': 1, 'carolina': 1, 'lake': 1, 'mary': 1, 'fl': 1, 'pittsburgh': 1, 'pa': 1, 'new': 1, 'york': 1, 'ny': 1, '10038': 1, 'financial': 1, 'district': 1, 'area': 1, 'union': 1, 'city': 1}}, 1: {'URI': 'AS/400 RPG DEVELOPER + JAVA, # 10679', 'description': {'charleston': 1, 'sc': 1, 'waukegan': 1, 'il': 1, 'united': 2, 'states': 2, 'woodbridge': 1, 'nj': 1, '07095': 1, 'north': 1, 'carolina': 1, 'lake': 1, 'mary': 1, 'fl': 1, 'pittsburgh': 1, 'pa': 1, 'new': 1, 'york': 1, 'ny': 1, '10038': 1, 'financial': 1, 'district': 1, 'area': 1, 'union': 1, 'city': 1}}, 2: {'URI': 'Java Developer', 'description': {'charleston': 1, 'sc': 1, 'waukegan': 1, 'il': 1, 'united': 2, 'states': 2, 'woodbridge': 1, 'nj': 1, '07095': 1, 'north': 1, 'carolina': 1, 'lake': 1, 'mary': 1, 'fl': 1, 'pittsburgh': 1, 'pa': 1, 'new': 1, 'york': 1, 'ny': 1, '10038': 1, 'financial': 1, 'district': 1, 'area': 1, 'union': 1, 'city': 1}}, 3: {'URI': 'Jr Java Developer', 'description': {'charleston': 1, 'sc': 1, 'waukegan': 1, 'il': 1, 'united': 2, 'states': 2, 'woodbridge': 1, 'nj': 1, '07095': 1, 'north': 1, 'carolina': 1, 'lake': 1, 'mary': 1, 'fl': 1, 'pittsburgh': 1, 'pa': 1, 'new': 1, 'york': 1, 'ny': 1, '10038': 1, 'financial': 1, 'district': 1, 'area': 1, 'union': 1, 'city': 1}}, 4: {'URI': 'Java Developer\\nnew', 'description': {'charleston': 1, 'sc': 1, 'waukegan': 1, 'il': 1, 'united': 2, 'states': 2, 'woodbridge': 1, 'nj': 1, '07095': 1, 'north': 1, 'carolina': 1, 'lake': 1, 'mary': 1, 'fl': 1, 'pittsburgh': 1, 'pa': 1, 'new': 1, 'york': 1, 'ny': 1, '10038': 1, 'financial': 1, 'district': 1, 'area': 1, 'union': 1, 'city': 1}}, 5: {'URI': 'Sr. Java Developer', 'description': {'charleston': 1, 'sc': 1, 'waukegan': 1, 'il': 1, 'united': 2, 'states': 2, 'woodbridge': 1, 'nj': 1, '07095': 1, 'north': 1, 'carolina': 1, 'lake': 1, 'mary': 1, 'fl': 1, 'pittsburgh': 1, 'pa': 1, 'new': 1, 'york': 1, 'ny': 1, '10038': 1, 'financial': 1, 'district': 1, 'area': 1, 'union': 1, 'city': 1}}, 6: {'URI': 'Java Developer\\nnew', 'description': {'charleston': 1, 'sc': 1, 'waukegan': 1, 'il': 1, 'united': 2, 'states': 2, 'woodbridge': 1, 'nj': 1, '07095': 1, 'north': 1, 'carolina': 1, 'lake': 1, 'mary': 1, 'fl': 1, 'pittsburgh': 1, 'pa': 1, 'new': 1, 'york': 1, 'ny': 1, '10038': 1, 'financial': 1, 'district': 1, 'area': 1, 'union': 1, 'city': 1}}, 7: {'URI': 'Typescript Developer\\nnew', 'description': {'charleston': 1, 'sc': 1, 'waukegan': 1, 'il': 1, 'united': 2, 'states': 2, 'woodbridge': 1, 'nj': 1, '07095': 1, 'north': 1, 'carolina': 1, 'lake': 1, 'mary': 1, 'fl': 1, 'pittsburgh': 1, 'pa': 1, 'new': 1, 'york': 1, 'ny': 1, '10038': 1, 'financial': 1, 'district': 1, 'area': 1, 'union': 1, 'city': 1}}, 8: {'URI': 'Quantitative Software Developer (Java)\\nnew', 'description': {'charleston': 1, 'sc': 1, 'waukegan': 1, 'il': 1, 'united': 2, 'states': 2, 'woodbridge': 1, 'nj': 1, '07095': 1, 'north': 1, 'carolina': 1, 'lake': 1, 'mary': 1, 'fl': 1, 'pittsburgh': 1, 'pa': 1, 'new': 1, 'york': 1, 'ny': 1, '10038': 1, 'financial': 1, 'district': 1, 'area': 1, 'union': 1, 'city': 1}}, 9: {'URI': 'Entry Level Java Developer', 'description': {'charleston': 1, 'sc': 1, 'waukegan': 1, 'il': 1, 'united': 2, 'states': 2, 'woodbridge': 1, 'nj': 1, '07095': 1, 'north': 1, 'carolina': 1, 'lake': 1, 'mary': 1, 'fl': 1, 'pittsburgh': 1, 'pa': 1, 'new': 1, 'york': 1, 'ny': 1, '10038': 1, 'financial': 1, 'district': 1, 'area': 1, 'union': 1, 'city': 1}}}\n"
     ]
    }
   ],
   "source": [
    "import spacy\n",
    "from spacy.lang.en.stop_words import STOP_WORDS\n",
    "from string import punctuation\n",
    "\n",
    "nlp = spacy.blank('en')\n",
    "stopwords = list(STOP_WORDS)\n",
    "punctuation = punctuation +  '\\n'\n",
    "word_frequencies = {}\n",
    "finalJobDescriptionList = {}\n",
    "\n",
    "for i in range(len(jobDic)):\n",
    "    text  = jobDic[i]['description']\n",
    "    URI =  jobDic[i]['URI']\n",
    "    doc = nlp(text)\n",
    "    tokens = [token.text for token in doc]\n",
    "    #print(tokens)\n",
    "\n",
    "    for word in doc:\n",
    "            if word.text.lower() not in stopwords:\n",
    "                if word.text.lower() not in punctuation:\n",
    "                    if word.text.lower() not in word_frequencies.keys():\n",
    "                        word_frequencies[word.text.lower()] = 1\n",
    "                    else:\n",
    "                        word_frequencies[word.text.lower()] += 1\n",
    "    \n",
    "    finalJobDescriptionList[i] = {'URI' : URI ,'description' : word_frequencies}\n",
    "                \n",
    "print(finalJobDescriptionList)\n"
   ]
  },
  {
   "cell_type": "code",
   "execution_count": null,
   "metadata": {},
   "outputs": [],
   "source": []
  },
  {
   "cell_type": "code",
   "execution_count": null,
   "metadata": {},
   "outputs": [],
   "source": []
  },
  {
   "cell_type": "code",
   "execution_count": 118,
   "metadata": {},
   "outputs": [
    {
     "name": "stdout",
     "output_type": "stream",
     "text": [
      "{\"0\": {\"URI\": \"Jr. Java Developer\", \"description\": {\"charleston\": 1, \"sc\": 1, \"waukegan\": 1, \"il\": 1, \"united\": 2, \"states\": 2, \"woodbridge\": 1, \"nj\": 1, \"07095\": 1, \"north\": 1, \"carolina\": 1, \"lake\": 1, \"mary\": 1, \"fl\": 1, \"pittsburgh\": 1, \"pa\": 1, \"new\": 1, \"york\": 1, \"ny\": 1, \"10038\": 1, \"financial\": 1, \"district\": 1, \"area\": 1, \"union\": 1, \"city\": 1}}, \"1\": {\"URI\": \"AS/400 RPG DEVELOPER + JAVA, # 10679\", \"description\": {\"charleston\": 1, \"sc\": 1, \"waukegan\": 1, \"il\": 1, \"united\": 2, \"states\": 2, \"woodbridge\": 1, \"nj\": 1, \"07095\": 1, \"north\": 1, \"carolina\": 1, \"lake\": 1, \"mary\": 1, \"fl\": 1, \"pittsburgh\": 1, \"pa\": 1, \"new\": 1, \"york\": 1, \"ny\": 1, \"10038\": 1, \"financial\": 1, \"district\": 1, \"area\": 1, \"union\": 1, \"city\": 1}}, \"2\": {\"URI\": \"Java Developer\", \"description\": {\"charleston\": 1, \"sc\": 1, \"waukegan\": 1, \"il\": 1, \"united\": 2, \"states\": 2, \"woodbridge\": 1, \"nj\": 1, \"07095\": 1, \"north\": 1, \"carolina\": 1, \"lake\": 1, \"mary\": 1, \"fl\": 1, \"pittsburgh\": 1, \"pa\": 1, \"new\": 1, \"york\": 1, \"ny\": 1, \"10038\": 1, \"financial\": 1, \"district\": 1, \"area\": 1, \"union\": 1, \"city\": 1}}, \"3\": {\"URI\": \"Jr Java Developer\", \"description\": {\"charleston\": 1, \"sc\": 1, \"waukegan\": 1, \"il\": 1, \"united\": 2, \"states\": 2, \"woodbridge\": 1, \"nj\": 1, \"07095\": 1, \"north\": 1, \"carolina\": 1, \"lake\": 1, \"mary\": 1, \"fl\": 1, \"pittsburgh\": 1, \"pa\": 1, \"new\": 1, \"york\": 1, \"ny\": 1, \"10038\": 1, \"financial\": 1, \"district\": 1, \"area\": 1, \"union\": 1, \"city\": 1}}, \"4\": {\"URI\": \"Java Developer\\nnew\", \"description\": {\"charleston\": 1, \"sc\": 1, \"waukegan\": 1, \"il\": 1, \"united\": 2, \"states\": 2, \"woodbridge\": 1, \"nj\": 1, \"07095\": 1, \"north\": 1, \"carolina\": 1, \"lake\": 1, \"mary\": 1, \"fl\": 1, \"pittsburgh\": 1, \"pa\": 1, \"new\": 1, \"york\": 1, \"ny\": 1, \"10038\": 1, \"financial\": 1, \"district\": 1, \"area\": 1, \"union\": 1, \"city\": 1}}, \"5\": {\"URI\": \"Sr. Java Developer\", \"description\": {\"charleston\": 1, \"sc\": 1, \"waukegan\": 1, \"il\": 1, \"united\": 2, \"states\": 2, \"woodbridge\": 1, \"nj\": 1, \"07095\": 1, \"north\": 1, \"carolina\": 1, \"lake\": 1, \"mary\": 1, \"fl\": 1, \"pittsburgh\": 1, \"pa\": 1, \"new\": 1, \"york\": 1, \"ny\": 1, \"10038\": 1, \"financial\": 1, \"district\": 1, \"area\": 1, \"union\": 1, \"city\": 1}}, \"6\": {\"URI\": \"Java Developer\\nnew\", \"description\": {\"charleston\": 1, \"sc\": 1, \"waukegan\": 1, \"il\": 1, \"united\": 2, \"states\": 2, \"woodbridge\": 1, \"nj\": 1, \"07095\": 1, \"north\": 1, \"carolina\": 1, \"lake\": 1, \"mary\": 1, \"fl\": 1, \"pittsburgh\": 1, \"pa\": 1, \"new\": 1, \"york\": 1, \"ny\": 1, \"10038\": 1, \"financial\": 1, \"district\": 1, \"area\": 1, \"union\": 1, \"city\": 1}}, \"7\": {\"URI\": \"Typescript Developer\\nnew\", \"description\": {\"charleston\": 1, \"sc\": 1, \"waukegan\": 1, \"il\": 1, \"united\": 2, \"states\": 2, \"woodbridge\": 1, \"nj\": 1, \"07095\": 1, \"north\": 1, \"carolina\": 1, \"lake\": 1, \"mary\": 1, \"fl\": 1, \"pittsburgh\": 1, \"pa\": 1, \"new\": 1, \"york\": 1, \"ny\": 1, \"10038\": 1, \"financial\": 1, \"district\": 1, \"area\": 1, \"union\": 1, \"city\": 1}}, \"8\": {\"URI\": \"Quantitative Software Developer (Java)\\nnew\", \"description\": {\"charleston\": 1, \"sc\": 1, \"waukegan\": 1, \"il\": 1, \"united\": 2, \"states\": 2, \"woodbridge\": 1, \"nj\": 1, \"07095\": 1, \"north\": 1, \"carolina\": 1, \"lake\": 1, \"mary\": 1, \"fl\": 1, \"pittsburgh\": 1, \"pa\": 1, \"new\": 1, \"york\": 1, \"ny\": 1, \"10038\": 1, \"financial\": 1, \"district\": 1, \"area\": 1, \"union\": 1, \"city\": 1}}, \"9\": {\"URI\": \"Entry Level Java Developer\", \"description\": {\"charleston\": 1, \"sc\": 1, \"waukegan\": 1, \"il\": 1, \"united\": 2, \"states\": 2, \"woodbridge\": 1, \"nj\": 1, \"07095\": 1, \"north\": 1, \"carolina\": 1, \"lake\": 1, \"mary\": 1, \"fl\": 1, \"pittsburgh\": 1, \"pa\": 1, \"new\": 1, \"york\": 1, \"ny\": 1, \"10038\": 1, \"financial\": 1, \"district\": 1, \"area\": 1, \"union\": 1, \"city\": 1}}}\n",
      "200\n"
     ]
    }
   ],
   "source": [
    "# ApI request to JAVA\n",
    "#text1=\"testing\"\n",
    "import json\n",
    "\n",
    "json_format = json.dumps(finalJobDescriptionList)\n",
    "print(json_format)\n",
    "\n",
    "payload = {'text1': json_format}\n",
    "response = requests.get(\"http://localhost:8080/getJobDescription\" ,params=payload)\n",
    "print(response.status_code)"
   ]
  },
  {
   "cell_type": "code",
   "execution_count": 68,
   "metadata": {},
   "outputs": [],
   "source": [
    "#Loading Resume and  Extracting Data\n",
    "import pickle\n",
    "import random"
   ]
  },
  {
   "cell_type": "code",
   "execution_count": 69,
   "metadata": {},
   "outputs": [
    {
     "data": {
      "text/plain": [
       "('Govardhana K Senior Software Engineer  Bengaluru, Karnataka, Karnataka - Email me on Indeed: indeed.com/r/Govardhana-K/ b2de315d95905b68  Total IT experience 5 Years 6 Months Cloud Lending Solutions INC 4 Month • Salesforce Developer Oracle 5 Years 2 Month • Core Java Developer Languages Core Java, Go Lang Oracle PL-SQL programming, Sales Force Developer with APEX.  Designations & Promotions  Willing to relocate: Anywhere  WORK EXPERIENCE  Senior Software Engineer  Cloud Lending Solutions -  Bangalore, Karnataka -  January 2018 to Present  Present  Senior Consultant  Oracle -  Bangalore, Karnataka -  November 2016 to December 2017  Staff Consultant  Oracle -  Bangalore, Karnataka -  January 2014 to October 2016  Associate Consultant  Oracle -  Bangalore, Karnataka -  November 2012 to December 2013  EDUCATION  B.E in Computer Science Engineering  Adithya Institute of Technology -  Tamil Nadu  September 2008 to June 2012  https://www.indeed.com/r/Govardhana-K/b2de315d95905b68?isid=rex-download&ikw=download-top&co=IN https://www.indeed.com/r/Govardhana-K/b2de315d95905b68?isid=rex-download&ikw=download-top&co=IN   SKILLS  APEX. (Less than 1 year), Data Structures (3 years), FLEXCUBE (5 years), Oracle (5 years), Algorithms (3 years)  LINKS  https://www.linkedin.com/in/govardhana-k-61024944/  ADDITIONAL INFORMATION  Technical Proficiency:  Languages: Core Java, Go Lang, Data Structures & Algorithms, Oracle PL-SQL programming, Sales Force with APEX. Tools: RADTool, Jdeveloper, NetBeans, Eclipse, SQL developer, PL/SQL Developer, WinSCP, Putty Web Technologies: JavaScript, XML, HTML, Webservice  Operating Systems: Linux, Windows Version control system SVN & Git-Hub Databases: Oracle Middleware: Web logic, OC4J Product FLEXCUBE: Oracle FLEXCUBE Versions 10.x, 11.x and 12.x  https://www.linkedin.com/in/govardhana-k-61024944/',\n",
       " {'entities': [(1749, 1755, 'Companies worked at'),\n",
       "   (1696, 1702, 'Companies worked at'),\n",
       "   (1417, 1423, 'Companies worked at'),\n",
       "   (1356, 1793, 'Skills'),\n",
       "   (1209, 1215, 'Companies worked at'),\n",
       "   (1136, 1248, 'Skills'),\n",
       "   (928, 932, 'Graduation Year'),\n",
       "   (858, 889, 'College Name'),\n",
       "   (821, 856, 'Degree'),\n",
       "   (787, 791, 'Graduation Year'),\n",
       "   (744, 750, 'Companies worked at'),\n",
       "   (722, 742, 'Designation'),\n",
       "   (658, 664, 'Companies worked at'),\n",
       "   (640, 656, 'Designation'),\n",
       "   (574, 580, 'Companies worked at'),\n",
       "   (555, 573, 'Designation'),\n",
       "   (470, 493, 'Companies worked at'),\n",
       "   (444, 469, 'Designation'),\n",
       "   (308, 314, 'Companies worked at'),\n",
       "   (234, 240, 'Companies worked at'),\n",
       "   (175, 198, 'Companies worked at'),\n",
       "   (93, 137, 'Email Address'),\n",
       "   (39, 48, 'Location'),\n",
       "   (13, 38, 'Designation'),\n",
       "   (0, 12, 'Name')]})"
      ]
     },
     "execution_count": 69,
     "metadata": {},
     "output_type": "execute_result"
    }
   ],
   "source": [
    "train_data = pickle.load(open('train_data.pkl','rb'))\n",
    "train_data[0]"
   ]
  },
  {
   "cell_type": "code",
   "execution_count": 70,
   "metadata": {},
   "outputs": [],
   "source": [
    "def train_model(train_data):\n",
    "    if 'ner' not in nlp.pipe_names:\n",
    "        ner = nlp.create_pipe('ner')\n",
    "        nlp.add_pipe(ner, last = True)\n",
    "        \n",
    "    for _, annotation in train_data:\n",
    "        for ent in annotation['entities']:\n",
    "            ner.add_label(ent[2])\n",
    "            \n",
    "    other_pipes = [pipe for pipe in nlp.pipe_names if pipe != 'ner']\n",
    "    with nlp.disable_pipes(*other_pipes):\n",
    "        optimizer = nlp.begin_training()\n",
    "        for itn in range(10):\n",
    "            print(\"starting iteration \" + str(itn))\n",
    "            random.shuffle(train_data)\n",
    "            losses = {}\n",
    "            index = 0\n",
    "            for text, annotation in train_data:\n",
    "                try:\n",
    "                    nlp.update(\n",
    "                        [text],\n",
    "                        [annotation],\n",
    "                        drop=0.2,\n",
    "                        sgd=optimizer,\n",
    "                        losses=losses)\n",
    "                except Exception as e:\n",
    "                    pass\n",
    "                    \n",
    "                        \n",
    "            print(losses)  "
   ]
  },
  {
   "cell_type": "code",
   "execution_count": 71,
   "metadata": {},
   "outputs": [
    {
     "name": "stdout",
     "output_type": "stream",
     "text": [
      "starting iteration 0\n",
      "{'ner': 13854.666263108866}\n",
      "starting iteration 1\n",
      "{'ner': 7708.9631790547355}\n",
      "starting iteration 2\n",
      "{'ner': 8479.110717201578}\n",
      "starting iteration 3\n",
      "{'ner': 5873.730081265468}\n",
      "starting iteration 4\n",
      "{'ner': 7525.433863721018}\n",
      "starting iteration 5\n",
      "{'ner': 5333.9183280053885}\n",
      "starting iteration 6\n",
      "{'ner': 5619.327874768101}\n",
      "starting iteration 7\n",
      "{'ner': 5029.440601398649}\n",
      "starting iteration 8\n",
      "{'ner': 5455.853326536679}\n",
      "starting iteration 9\n",
      "{'ner': 5554.030947513798}\n"
     ]
    }
   ],
   "source": [
    "train_model(train_data)"
   ]
  },
  {
   "cell_type": "code",
   "execution_count": 72,
   "metadata": {},
   "outputs": [
    {
     "name": "stdout",
     "output_type": "stream",
     "text": [
      "NAME                          -Sumit Kubade\n",
      "LOCATION                      -SAP -\n",
      "COMPANIES WORKED AT           -SAP FI\n",
      "LOCATION                      -Pune\n",
      "DESIGNATION                   -SAP FINANCE MODULE\n",
      "LOCATION                      -Pune\n",
      "DESIGNATION                   -SAP - FI Support Consultant\n",
      "COMPANIES WORKED AT           -SAP FI\n",
      "COLLEGE NAME                  -Indian Institute Of Company Secretory Of India (Appeared)\n",
      "GRADUATION YEAR               -2014\n",
      "DEGREE                        -B.com\n",
      "COLLEGE NAME                  -Pune University\n",
      "SKILLS                        -SAP (1 year)\n"
     ]
    }
   ],
   "source": [
    "nlp.to_disk('nlp_model')\n",
    "nlp_model = spacy.load('nlp_model')\n",
    "train_data[0][0]\n",
    "doc = nlp_model(train_data[0][0])\n",
    "for ent in doc.ents:\n",
    "    print(f'{ent.label_.upper():{30}}-{ent.text}')"
   ]
  },
  {
   "cell_type": "code",
   "execution_count": 73,
   "metadata": {},
   "outputs": [
    {
     "name": "stdout",
     "output_type": "stream",
     "text": [
      "Requirement already satisfied: PyMuPDF in c:\\users\\akalanka\\anaconda3\\lib\\site-packages (1.17.2)\n"
     ]
    },
    {
     "name": "stderr",
     "output_type": "stream",
     "text": [
      "WARNING: You are using pip version 20.0.2; however, version 20.1.1 is available.\n",
      "You should consider upgrading via the 'c:\\users\\akalanka\\anaconda3\\python.exe -m pip install --upgrade pip' command.\n"
     ]
    }
   ],
   "source": [
    "!pip install PyMuPDF"
   ]
  },
  {
   "cell_type": "code",
   "execution_count": 74,
   "metadata": {},
   "outputs": [
    {
     "name": "stdout",
     "output_type": "stream",
     "text": [
      "Java Developer  Hyderabad, Telangana  To work in a firm with a professional work driven environment where I can utilize and apply   my knowledge, skills which would enable me as a fresh graduate to grow while fulfilling   organizational goals.      BASIC ACADEMIC CREDENTIALS      #readytowork  Willing to relocate: Anywhere  Work Experience  Java Developer  Kansas IT Solutions - Hyderabad, Telangana  June 2019 to July 2019  In an internship program I have successfully completed internship on Java Developer from  Kansas IT Solutions , Hyderabad .The duration of the project was from 3rd June to 3rd July .  Education  Bachelor's in Computer Science Engineering  Osmania University - Hyderabad, Telangana  June 2016 to June 2020  Higher Secondary(12th Pass) in Mathematics,Physics,Chemistry  Telangana Board of Secondary Education - Hyderabad, Telangana  June 2014 to June 2016    SKILLS  ● Python  ● Java  ● C  ● Web Development  ● Data Structure  ● Dbms  ● Html5  ● Programming  Projects / Papers Presented  Phishing Websites Classification Using Extreme Learning Machine  2020-03  As a final major project ( B.E ,8th semester , team of 3 ) we developed a Python Project for  Phishing Websites Classification Using Extreme Learning Machine .    \n"
     ]
    }
   ],
   "source": [
    "import sys,fitz\n",
    "fname = 'Test3.pdf'\n",
    "doc = fitz.open(fname)\n",
    "text = \"\"\n",
    "for page in doc:\n",
    "    text = text + str(page.getText())\n",
    "\n",
    "tx = \" \".join(text.split('\\n'))\n",
    "print(tx)  "
   ]
  },
  {
   "cell_type": "code",
   "execution_count": 76,
   "metadata": {},
   "outputs": [
    {
     "name": "stdout",
     "output_type": "stream",
     "text": [
      "NAME                          -Java Developer\n",
      "LOCATION                      -Hyderabad\n",
      "DESIGNATION                   -Java Developer\n",
      "DEGREE                        -Bachelor's in Computer Science Engineering\n",
      "COLLEGE NAME                  -Osmania University\n"
     ]
    }
   ],
   "source": [
    "doc = nlp_model(tx)\n",
    "for ent in doc.ents:\n",
    "    print(f'{ent.label_.upper():{30}}-{ent.text}')"
   ]
  },
  {
   "cell_type": "code",
   "execution_count": 77,
   "metadata": {},
   "outputs": [
    {
     "name": "stdout",
     "output_type": "stream",
     "text": [
      "{'java': 4, 'developer': 3, ' ': 29, 'hyderabad': 5, 'telangana': 5, 'work': 3, 'firm': 1, 'professional': 1, 'driven': 1, 'environment': 1, 'utilize': 1, 'apply': 1, '  ': 2, 'knowledge': 1, 'skills': 2, 'enable': 1, 'fresh': 1, 'graduate': 1, 'grow': 1, 'fulfilling': 1, 'organizational': 1, 'goals': 1, '     ': 2, 'basic': 1, 'academic': 1, 'credentials': 1, 'readytowork': 1, 'willing': 1, 'relocate': 1, 'experience': 1, 'kansas': 2, 'solutions': 2, 'june': 6, '2019': 2, 'july': 2, 'internship': 2, 'program': 1, 'successfully': 1, 'completed': 1, '.the': 1, 'duration': 1, 'project': 3, '3rd': 2, 'education': 2, 'bachelor': 1, 'computer': 1, 'science': 1, 'engineering': 1, 'osmania': 1, 'university': 1, '2016': 2, '2020': 2, 'higher': 1, 'secondary(12th': 1, 'pass': 1, 'mathematics': 1, 'physics': 1, 'chemistry': 1, 'board': 1, 'secondary': 1, '2014': 1, '   ': 2, '●': 8, 'python': 2, 'c': 1, 'web': 1, 'development': 1, 'data': 1, 'structure': 1, 'dbms': 1, 'html5': 1, 'programming': 1, 'projects': 1, 'papers': 1, 'presented': 1, 'phishing': 2, 'websites': 2, 'classification': 2, 'extreme': 2, 'learning': 2, 'machine': 2, '03': 1, 'final': 1, 'major': 1, 'b.e': 1, '8th': 1, 'semester': 1, 'team': 1, '3': 1, 'developed': 1}\n"
     ]
    }
   ],
   "source": [
    "docCV = nlp(tx)\n",
    "word_frequenciesCV = {}\n",
    "for word in docCV:\n",
    "    if word.text.lower() not in stopwords:\n",
    "        if word.text.lower() not in punctuation:\n",
    "            if word.text.lower() not in word_frequenciesCV.keys():\n",
    "                word_frequenciesCV[word.text.lower()] = 1\n",
    "            else:\n",
    "                word_frequenciesCV[word.text.lower()] += 1\n",
    "            \n",
    "print(word_frequenciesCV)"
   ]
  },
  {
   "cell_type": "code",
   "execution_count": 78,
   "metadata": {},
   "outputs": [
    {
     "name": "stdout",
     "output_type": "stream",
     "text": [
      "200\n"
     ]
    }
   ],
   "source": [
    "payload = {'text1': word_frequenciesCV}\n",
    "response = requests.get(\"http://localhost:8080/getJobDescription\" ,params=payload)\n",
    "print(response.status_code)"
   ]
  },
  {
   "cell_type": "code",
   "execution_count": 130,
   "metadata": {},
   "outputs": [
    {
     "name": "stdout",
     "output_type": "stream",
     "text": [
      "John\n",
      "John2\n"
     ]
    }
   ],
   "source": [
    "class Student:\n",
    "    def __init__(self, name, age, major):\n",
    "        self.name = name\n",
    "        self.age = age\n",
    "        self.major = major\n",
    "\n",
    "s = Student('John', 88, None)\n",
    "a=[]\n",
    "a.append(s)\n",
    "s1 = Student('John2', 88, None)\n",
    "a.append(s1)\n",
    "for s in a:\n",
    "    print(s.name)"
   ]
  },
  {
   "cell_type": "code",
   "execution_count": null,
   "metadata": {},
   "outputs": [],
   "source": []
  }
 ],
 "metadata": {
  "kernelspec": {
   "display_name": "Python 3",
   "language": "python",
   "name": "python3"
  },
  "language_info": {
   "codemirror_mode": {
    "name": "ipython",
    "version": 3
   },
   "file_extension": ".py",
   "mimetype": "text/x-python",
   "name": "python",
   "nbconvert_exporter": "python",
   "pygments_lexer": "ipython3",
   "version": "3.7.3"
  }
 },
 "nbformat": 4,
 "nbformat_minor": 2
}
