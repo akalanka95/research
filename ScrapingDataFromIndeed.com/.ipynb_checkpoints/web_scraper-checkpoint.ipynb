{
 "cells": [
  {
   "cell_type": "code",
   "execution_count": 1,
   "metadata": {},
   "outputs": [],
   "source": [
    "from bs4 import BeautifulSoup\n",
    "import requests\n",
    "import time\n",
    "import csv\n",
    "import os"
   ]
  },
  {
   "cell_type": "code",
   "execution_count": 3,
   "metadata": {},
   "outputs": [
    {
     "ename": "FileNotFoundError",
     "evalue": "[WinError 2] The system cannot find the file specified: 'K:/Research/WebScrapingIndeed.com/job_description.csv'",
     "output_type": "error",
     "traceback": [
      "\u001b[1;31m---------------------------------------------------------------------------\u001b[0m",
      "\u001b[1;31mFileNotFoundError\u001b[0m                         Traceback (most recent call last)",
      "\u001b[1;32m<ipython-input-3-37e65d93797d>\u001b[0m in \u001b[0;36m<module>\u001b[1;34m\u001b[0m\n\u001b[0;32m      6\u001b[0m     \u001b[0mcsv_print\u001b[0m \u001b[1;33m=\u001b[0m \u001b[0mcsv\u001b[0m\u001b[1;33m.\u001b[0m\u001b[0mwriter\u001b[0m\u001b[1;33m(\u001b[0m\u001b[0mf_output\u001b[0m\u001b[1;33m)\u001b[0m\u001b[1;33m\u001b[0m\u001b[1;33m\u001b[0m\u001b[0m\n\u001b[0;32m      7\u001b[0m \u001b[1;33m\u001b[0m\u001b[0m\n\u001b[1;32m----> 8\u001b[1;33m     \u001b[0mfile_is_empty\u001b[0m \u001b[1;33m=\u001b[0m \u001b[0mos\u001b[0m\u001b[1;33m.\u001b[0m\u001b[0mstat\u001b[0m\u001b[1;33m(\u001b[0m\u001b[1;34m'K:/Research/WebScrapingIndeed.com/job_description.csv'\u001b[0m\u001b[1;33m)\u001b[0m\u001b[1;33m.\u001b[0m\u001b[0mst_size\u001b[0m\u001b[1;33m==\u001b[0m \u001b[1;36m0\u001b[0m\u001b[1;33m\u001b[0m\u001b[1;33m\u001b[0m\u001b[0m\n\u001b[0m\u001b[0;32m      9\u001b[0m     \u001b[1;32mif\u001b[0m \u001b[0mfile_is_empty\u001b[0m\u001b[1;33m:\u001b[0m\u001b[1;33m\u001b[0m\u001b[1;33m\u001b[0m\u001b[0m\n\u001b[0;32m     10\u001b[0m         \u001b[0mcsv_print\u001b[0m\u001b[1;33m.\u001b[0m\u001b[0mwriterow\u001b[0m\u001b[1;33m(\u001b[0m\u001b[1;33m[\u001b[0m\u001b[1;34m'Job_Title'\u001b[0m\u001b[1;33m,\u001b[0m\u001b[1;34m'Company'\u001b[0m\u001b[1;33m,\u001b[0m\u001b[1;34m'Location'\u001b[0m\u001b[1;33m,\u001b[0m\u001b[1;34m'Summary'\u001b[0m\u001b[1;33m,\u001b[0m \u001b[1;34m'Salary'\u001b[0m\u001b[1;33m]\u001b[0m\u001b[1;33m)\u001b[0m\u001b[1;33m\u001b[0m\u001b[1;33m\u001b[0m\u001b[0m\n",
      "\u001b[1;31mFileNotFoundError\u001b[0m: [WinError 2] The system cannot find the file specified: 'K:/Research/WebScrapingIndeed.com/job_description.csv'"
     ]
    }
   ],
   "source": [
    "page_list = [10,20,30,40]\n",
    "\n",
    "jobs = ['']\n",
    "\n",
    "with open('G:/Research/ScrapingDataFromIndeed.com/job_description.xml','a',encoding='utf-8',newline='') as f_output:\n",
    "    csv_print = csv.writer(f_output)\n",
    "    \n",
    "    file_is_empty = os.stat('K:/Research/WebScrapingIndeed.com/job_description.csv').st_size== 0\n",
    "    if file_is_empty:\n",
    "        csv_print.writerow(['Job_Title','Company','Location','Summary', 'Salary'])\n",
    "    \n",
    "    for page in page_list:\n",
    "        source = requests.get('https://www.indeed.com/jobs?q=java+developer&start={}'.format(page)).text\n",
    "\n",
    "        soup = BeautifulSoup(source,'lxml')\n",
    "        #print(soup.prettify())\n",
    "\n",
    "        jobs = soup.find(class_='result')\n",
    "        #print(jobs.prettify())\n",
    "\n",
    "        for jobs in soup.find_all(class_='result'):\n",
    "\n",
    "            print(\"-------------------------------------------\")\n",
    "\n",
    "            try:\n",
    "                job_title = jobs.find(class_='title').text.strip()\n",
    "            except Exception as e:\n",
    "                job_title = None\n",
    "            print('Job_Title' ,job_title)\n",
    "\n",
    "            try:\n",
    "                company_name = jobs.find('span',class_='company').text.strip()\n",
    "            except Exception as e:\n",
    "                company_name = None\n",
    "            print('Company_Name' ,company_name)\n",
    "\n",
    "            try:\n",
    "                company_location = jobs.find('span',class_='location').text.strip()\n",
    "            except Exception as e:\n",
    "                company_location = None\n",
    "            print('Company_Location' ,company_location)\n",
    "\n",
    "            try:\n",
    "                summary = jobs.find(class_='summary').text.strip()\n",
    "            except Exception as e:\n",
    "                summary = None\n",
    "            print('Summary' ,summary)\n",
    "\n",
    "            try:\n",
    "                salary = jobs.find(class_='salary').text.strip()\n",
    "            except Exception as e:\n",
    "                salary = None\n",
    "            print('Salary' ,salary)\n",
    "            \n",
    "            csv_print.writerow([job_title,company_name,company_location,summary,salary])\n",
    "\n",
    "            time.sleep(2)\n"
   ]
  },
  {
   "cell_type": "code",
   "execution_count": null,
   "metadata": {},
   "outputs": [],
   "source": []
  },
  {
   "cell_type": "code",
   "execution_count": null,
   "metadata": {},
   "outputs": [],
   "source": []
  },
  {
   "cell_type": "code",
   "execution_count": 72,
   "metadata": {},
   "outputs": [],
   "source": [
    "# job_title = jobs.find(class_='title').text.strip()\n",
    "# print(job_title)"
   ]
  },
  {
   "cell_type": "code",
   "execution_count": 73,
   "metadata": {},
   "outputs": [],
   "source": [
    "# company_name = jobs.find('span',class_='company').text.strip()\n",
    "# print(company_name)"
   ]
  },
  {
   "cell_type": "code",
   "execution_count": null,
   "metadata": {},
   "outputs": [],
   "source": []
  },
  {
   "cell_type": "code",
   "execution_count": 74,
   "metadata": {},
   "outputs": [],
   "source": [
    "# company_location = jobs.find('span',class_='location').text.strip()\n",
    "# print(company_location)"
   ]
  },
  {
   "cell_type": "code",
   "execution_count": 75,
   "metadata": {},
   "outputs": [],
   "source": [
    "# summary = jobs.find(class_='summary').text.strip()\n",
    "# print(summary)"
   ]
  },
  {
   "cell_type": "code",
   "execution_count": 76,
   "metadata": {},
   "outputs": [],
   "source": [
    "#link = jobs.find_all('a',id='jl_05d9a7e42a0d5f80')\n",
    "#print(link)\n",
    "\n",
    "#source1 = requests.get('https://www.indeed.com/jobs?q=data+scientist&l&vjk=3193c4bd215a564c').text\n",
    "#soup1 = BeautifulSoup(source1,'lxml')\n",
    "\n",
    "# jobs1 = soup1.find('td',id='auxCol')\n",
    "#qualification = jobs1.find('h2' , class_='jobSectionHeader').text.strip()\n",
    "#print(qualification)\n",
    "\n",
    "#jobs1 = soup1.find(class_=\"jobSectionHeader\")\n",
    "#print(jobs1)"
   ]
  },
  {
   "cell_type": "markdown",
   "metadata": {},
   "source": []
  },
  {
   "cell_type": "code",
   "execution_count": 98,
   "metadata": {},
   "outputs": [
    {
     "name": "stdout",
     "output_type": "stream",
     "text": [
      "[]\n"
     ]
    }
   ],
   "source": [
    "source1 = requests.get('https://www.indeed.com/jobs?q=java%20developer&l&vjk=2a91108586fa4db7').text\n",
    "\n",
    "soup1 = BeautifulSoup(source1,'lxml')\n",
    "#print(soup1)\n",
    "\n",
    "jobs1 = soup1.find_all('div' , {'id': 'vjs-container', 'tabindex': '-1' })\n",
    "print(jobs1)\n",
    "\n",
    "    \n",
    "# job_title = jobs.find(class_='title').text.strip()\n",
    "            \n",
    "# print('Job_Title' ,job_title)\n"
   ]
  },
  {
   "cell_type": "code",
   "execution_count": null,
   "metadata": {},
   "outputs": [],
   "source": []
  }
 ],
 "metadata": {
  "kernelspec": {
   "display_name": "Python 3",
   "language": "python",
   "name": "python3"
  },
  "language_info": {
   "codemirror_mode": {
    "name": "ipython",
    "version": 3
   },
   "file_extension": ".py",
   "mimetype": "text/x-python",
   "name": "python",
   "nbconvert_exporter": "python",
   "pygments_lexer": "ipython3",
   "version": "3.7.3"
  }
 },
 "nbformat": 4,
 "nbformat_minor": 2
}
