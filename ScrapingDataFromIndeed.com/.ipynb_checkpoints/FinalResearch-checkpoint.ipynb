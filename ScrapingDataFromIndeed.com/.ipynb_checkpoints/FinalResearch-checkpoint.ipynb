{
 "cells": [
  {
   "cell_type": "code",
   "execution_count": 13,
   "metadata": {},
   "outputs": [],
   "source": [
    "from bs4 import BeautifulSoup\n",
    "import requests\n",
    "import time\n",
    "import csv\n",
    "import os\n",
    "import re\n",
    "import pickle\n",
    "import random\n",
    "import spacy\n",
    "from spacy.lang.en.stop_words import STOP_WORDS\n",
    "from string import punctuation\n",
    "import sys,fitz"
   ]
  },
  {
   "cell_type": "code",
   "execution_count": 17,
   "metadata": {},
   "outputs": [
    {
     "data": {
      "text/plain": [
       "('Govardhana K Senior Software Engineer  Bengaluru, Karnataka, Karnataka - Email me on Indeed: indeed.com/r/Govardhana-K/ b2de315d95905b68  Total IT experience 5 Years 6 Months Cloud Lending Solutions INC 4 Month • Salesforce Developer Oracle 5 Years 2 Month • Core Java Developer Languages Core Java, Go Lang Oracle PL-SQL programming, Sales Force Developer with APEX.  Designations & Promotions  Willing to relocate: Anywhere  WORK EXPERIENCE  Senior Software Engineer  Cloud Lending Solutions -  Bangalore, Karnataka -  January 2018 to Present  Present  Senior Consultant  Oracle -  Bangalore, Karnataka -  November 2016 to December 2017  Staff Consultant  Oracle -  Bangalore, Karnataka -  January 2014 to October 2016  Associate Consultant  Oracle -  Bangalore, Karnataka -  November 2012 to December 2013  EDUCATION  B.E in Computer Science Engineering  Adithya Institute of Technology -  Tamil Nadu  September 2008 to June 2012  https://www.indeed.com/r/Govardhana-K/b2de315d95905b68?isid=rex-download&ikw=download-top&co=IN https://www.indeed.com/r/Govardhana-K/b2de315d95905b68?isid=rex-download&ikw=download-top&co=IN   SKILLS  APEX. (Less than 1 year), Data Structures (3 years), FLEXCUBE (5 years), Oracle (5 years), Algorithms (3 years)  LINKS  https://www.linkedin.com/in/govardhana-k-61024944/  ADDITIONAL INFORMATION  Technical Proficiency:  Languages: Core Java, Go Lang, Data Structures & Algorithms, Oracle PL-SQL programming, Sales Force with APEX. Tools: RADTool, Jdeveloper, NetBeans, Eclipse, SQL developer, PL/SQL Developer, WinSCP, Putty Web Technologies: JavaScript, XML, HTML, Webservice  Operating Systems: Linux, Windows Version control system SVN & Git-Hub Databases: Oracle Middleware: Web logic, OC4J Product FLEXCUBE: Oracle FLEXCUBE Versions 10.x, 11.x and 12.x  https://www.linkedin.com/in/govardhana-k-61024944/',\n",
       " {'entities': [(1749, 1755, 'Companies worked at'),\n",
       "   (1696, 1702, 'Companies worked at'),\n",
       "   (1417, 1423, 'Companies worked at'),\n",
       "   (1356, 1793, 'Skills'),\n",
       "   (1209, 1215, 'Companies worked at'),\n",
       "   (1136, 1248, 'Skills'),\n",
       "   (928, 932, 'Graduation Year'),\n",
       "   (858, 889, 'College Name'),\n",
       "   (821, 856, 'Degree'),\n",
       "   (787, 791, 'Graduation Year'),\n",
       "   (744, 750, 'Companies worked at'),\n",
       "   (722, 742, 'Designation'),\n",
       "   (658, 664, 'Companies worked at'),\n",
       "   (640, 656, 'Designation'),\n",
       "   (574, 580, 'Companies worked at'),\n",
       "   (555, 573, 'Designation'),\n",
       "   (470, 493, 'Companies worked at'),\n",
       "   (444, 469, 'Designation'),\n",
       "   (308, 314, 'Companies worked at'),\n",
       "   (234, 240, 'Companies worked at'),\n",
       "   (175, 198, 'Companies worked at'),\n",
       "   (93, 137, 'Email Address'),\n",
       "   (39, 48, 'Location'),\n",
       "   (13, 38, 'Designation'),\n",
       "   (0, 12, 'Name')]})"
      ]
     },
     "execution_count": 17,
     "metadata": {},
     "output_type": "execute_result"
    }
   ],
   "source": [
    "# Import CV and extract Data\n",
    "nlp = spacy.blank('en')\n",
    "stopwords = list(STOP_WORDS)\n",
    "punctuation = punctuation + '\\n'\n",
    "\n",
    "train_data = pickle.load(open('train_data.pkl','rb'))\n",
    "train_data[0]"
   ]
  },
  {
   "cell_type": "code",
   "execution_count": 9,
   "metadata": {},
   "outputs": [],
   "source": [
    "def train_model(train_data):\n",
    "    if 'ner' not in nlp.pipe_names:\n",
    "        ner = nlp.create_pipe('ner')\n",
    "        nlp.add_pipe(ner, last = True)\n",
    "        \n",
    "    for _, annotation in train_data:\n",
    "        for ent in annotation['entities']:\n",
    "            ner.add_label(ent[2])\n",
    "            \n",
    "    other_pipes = [pipe for pipe in nlp.pipe_names if pipe != 'ner']\n",
    "    with nlp.disable_pipes(*other_pipes):\n",
    "        optimizer = nlp.begin_training()\n",
    "        for itn in range(10):\n",
    "            print(\"starting iteration \" + str(itn))\n",
    "            random.shuffle(train_data)\n",
    "            losses = {}\n",
    "            index = 0\n",
    "            for text, annotation in train_data:\n",
    "                try:\n",
    "                    nlp.update(\n",
    "                        [text],\n",
    "                        [annotation],\n",
    "                        drop=0.2,\n",
    "                        sgd=optimizer,\n",
    "                        losses=losses)\n",
    "                except Exception as e:\n",
    "                    pass\n",
    "                    \n",
    "                        \n",
    "            print(losses)  "
   ]
  },
  {
   "cell_type": "code",
   "execution_count": 10,
   "metadata": {},
   "outputs": [
    {
     "name": "stdout",
     "output_type": "stream",
     "text": [
      "starting iteration 0\n",
      "{'ner': 17697.081124774802}\n",
      "starting iteration 1\n",
      "{'ner': 11195.336227462998}\n",
      "starting iteration 2\n",
      "{'ner': 9442.964024490597}\n",
      "starting iteration 3\n",
      "{'ner': 8657.2391257055}\n",
      "starting iteration 4\n",
      "{'ner': 6901.92265736071}\n",
      "starting iteration 5\n",
      "{'ner': 5334.815422564294}\n",
      "starting iteration 6\n",
      "{'ner': 6754.890139539285}\n",
      "starting iteration 7\n",
      "{'ner': 5472.294728615241}\n",
      "starting iteration 8\n",
      "{'ner': 5685.78769064887}\n",
      "starting iteration 9\n",
      "{'ner': 6179.067870472694}\n"
     ]
    }
   ],
   "source": [
    "train_model(train_data)"
   ]
  },
  {
   "cell_type": "code",
   "execution_count": 11,
   "metadata": {},
   "outputs": [
    {
     "name": "stdout",
     "output_type": "stream",
     "text": [
      "NAME                          -Krishna Prasad\n",
      "LOCATION                      -Patna\n",
      "EMAIL ADDRESS                 -indeed.com/r/Krishna-Prasad/b8d7a1135a44a37a\n",
      "LOCATION                      -Patna\n",
      "DESIGNATION                   -Data Entry Operator\n",
      "COMPANIES WORKED AT           -Microsoft\n",
      "DEGREE                        -BSc in Computer Science\n",
      "COLLEGE NAME                  -Magadh university\n",
      "LOCATION                      -Patna\n"
     ]
    }
   ],
   "source": [
    "nlp.to_disk('nlp_model')\n",
    "nlp_model = spacy.load('nlp_model')\n",
    "train_data[0][0]\n",
    "doc = nlp_model(train_data[0][0])\n",
    "for ent in doc.ents:\n",
    "    print(f'{ent.label_.upper():{30}}-{ent.text}')"
   ]
  },
  {
   "cell_type": "code",
   "execution_count": 12,
   "metadata": {},
   "outputs": [
    {
     "name": "stdout",
     "output_type": "stream",
     "text": [
      "Requirement already satisfied: PyMuPDF in c:\\users\\akalanka\\anaconda3\\lib\\site-packages (1.17.2)\n"
     ]
    },
    {
     "name": "stderr",
     "output_type": "stream",
     "text": [
      "WARNING: You are using pip version 20.0.2; however, version 20.1.1 is available.\n",
      "You should consider upgrading via the 'c:\\users\\akalanka\\anaconda3\\python.exe -m pip install --upgrade pip' command.\n"
     ]
    }
   ],
   "source": [
    "!pip install PyMuPDF"
   ]
  },
  {
   "cell_type": "code",
   "execution_count": 14,
   "metadata": {},
   "outputs": [
    {
     "name": "stdout",
     "output_type": "stream",
     "text": [
      "Java Developer  Hyderabad, Telangana  To work in a firm with a professional work driven environment where I can utilize and apply   my knowledge, skills which would enable me as a fresh graduate to grow while fulfilling   organizational goals.      BASIC ACADEMIC CREDENTIALS      #readytowork  Willing to relocate: Anywhere  Work Experience  Java Developer  Kansas IT Solutions - Hyderabad, Telangana  June 2019 to July 2019  In an internship program I have successfully completed internship on Java Developer from  Kansas IT Solutions , Hyderabad .The duration of the project was from 3rd June to 3rd July .  Education  Bachelor's in Computer Science Engineering  Osmania University - Hyderabad, Telangana  June 2016 to June 2020  Higher Secondary(12th Pass) in Mathematics,Physics,Chemistry  Telangana Board of Secondary Education - Hyderabad, Telangana  June 2014 to June 2016    SKILLS  ● Python  ● Java  ● C  ● Web Development  ● Data Structure  ● Dbms  ● Html5  ● Programming  Projects / Papers Presented  Phishing Websites Classification Using Extreme Learning Machine  2020-03  As a final major project ( B.E ,8th semester , team of 3 ) we developed a Python Project for  Phishing Websites Classification Using Extreme Learning Machine .    \n"
     ]
    }
   ],
   "source": [
    "fname = 'Test3.pdf'\n",
    "doc = fitz.open(fname)\n",
    "text = \"\"\n",
    "for page in doc:\n",
    "    text = text + str(page.getText())\n",
    "\n",
    "tx = \" \".join(text.split('\\n'))\n",
    "print(tx) "
   ]
  },
  {
   "cell_type": "code",
   "execution_count": 15,
   "metadata": {},
   "outputs": [
    {
     "name": "stdout",
     "output_type": "stream",
     "text": [
      "NAME                          -Java Developer\n",
      "LOCATION                      -Hyderabad\n",
      "DESIGNATION                   -Java Developer\n",
      "DEGREE                        -Bachelor's in Computer Science Engineering\n",
      "COLLEGE NAME                  -Osmania University\n"
     ]
    }
   ],
   "source": [
    "doc = nlp_model(tx)\n",
    "for ent in doc.ents:\n",
    "    print(f'{ent.label_.upper():{30}}-{ent.text}')"
   ]
  },
  {
   "cell_type": "code",
   "execution_count": 18,
   "metadata": {},
   "outputs": [
    {
     "name": "stdout",
     "output_type": "stream",
     "text": [
      "{'java': 4, 'developer': 3, ' ': 29, 'hyderabad': 5, 'telangana': 5, 'work': 3, 'firm': 1, 'professional': 1, 'driven': 1, 'environment': 1, 'utilize': 1, 'apply': 1, '  ': 2, 'knowledge': 1, 'skills': 2, 'enable': 1, 'fresh': 1, 'graduate': 1, 'grow': 1, 'fulfilling': 1, 'organizational': 1, 'goals': 1, '     ': 2, 'basic': 1, 'academic': 1, 'credentials': 1, 'readytowork': 1, 'willing': 1, 'relocate': 1, 'experience': 1, 'kansas': 2, 'solutions': 2, 'june': 6, '2019': 2, 'july': 2, 'internship': 2, 'program': 1, 'successfully': 1, 'completed': 1, '.the': 1, 'duration': 1, 'project': 3, '3rd': 2, 'education': 2, 'bachelor': 1, 'computer': 1, 'science': 1, 'engineering': 1, 'osmania': 1, 'university': 1, '2016': 2, '2020': 2, 'higher': 1, 'secondary(12th': 1, 'pass': 1, 'mathematics': 1, 'physics': 1, 'chemistry': 1, 'board': 1, 'secondary': 1, '2014': 1, '   ': 2, '●': 8, 'python': 2, 'c': 1, 'web': 1, 'development': 1, 'data': 1, 'structure': 1, 'dbms': 1, 'html5': 1, 'programming': 1, 'projects': 1, 'papers': 1, 'presented': 1, 'phishing': 2, 'websites': 2, 'classification': 2, 'extreme': 2, 'learning': 2, 'machine': 2, '03': 1, 'final': 1, 'major': 1, 'b.e': 1, '8th': 1, 'semester': 1, 'team': 1, '3': 1, 'developed': 1}\n"
     ]
    }
   ],
   "source": [
    "docCV = nlp(tx)\n",
    "word_frequenciesCV = {}\n",
    "for word in docCV:\n",
    "    if word.text.lower() not in stopwords:\n",
    "        if word.text.lower() not in punctuation:\n",
    "            if word.text.lower() not in word_frequenciesCV.keys():\n",
    "                word_frequenciesCV[word.text.lower()] = 1\n",
    "            else:\n",
    "                word_frequenciesCV[word.text.lower()] += 1\n",
    "            \n",
    "print(word_frequenciesCV)"
   ]
  },
  {
   "cell_type": "code",
   "execution_count": 25,
   "metadata": {},
   "outputs": [
    {
     "name": "stdout",
     "output_type": "stream",
     "text": [
      "200\n"
     ]
    }
   ],
   "source": [
    "payload = {'cvData': word_frequenciesCV}\n",
    "response = requests.get(\"http://localhost:8080/calculateSimilarity\" ,params=payload)\n",
    "print(response.status_code)"
   ]
  },
  {
   "cell_type": "code",
   "execution_count": null,
   "metadata": {},
   "outputs": [],
   "source": [
    "####################################################################\n",
    "####################################################################"
   ]
  },
  {
   "cell_type": "code",
   "execution_count": 26,
   "metadata": {},
   "outputs": [],
   "source": [
    "#Get Term List From Job Descriptions\n",
    "class Job:\n",
    "    def __init__(self, URI, description , summary):\n",
    "        self.URI = URI\n",
    "        self.description = description\n",
    "        self.summary = summary\n",
    "    def __iter__(self):\n",
    "        return self\n",
    "    def toJson(self):\n",
    "        return json.dumps(self, default=lambda o: o.__dict__)"
   ]
  },
  {
   "cell_type": "code",
   "execution_count": 27,
   "metadata": {},
   "outputs": [
    {
     "name": "stdout",
     "output_type": "stream",
     "text": [
      "-------------------------------------------\n",
      "-------------------------------------------\n",
      "-------------------------------------------\n",
      "-------------------------------------------\n",
      "-------------------------------------------\n",
      "-------------------------------------------\n",
      "-------------------------------------------\n",
      "-------------------------------------------\n",
      "-------------------------------------------\n",
      "-------------------------------------------\n"
     ]
    }
   ],
   "source": [
    "page_list = [10]\n",
    "\n",
    "jobDic = {}\n",
    "i=0\n",
    "jobList = []\n",
    "\n",
    "jobs_categories = ['java+developer']\n",
    "with open('G:/Research/ScrapingDataFromIndeed.com/job_description.csv','a',encoding='utf-8',newline='') as f_output:\n",
    "    csv_print = csv.writer(f_output)\n",
    "    \n",
    "    file_is_empty = os.stat('G:/Research/ScrapingDataFromIndeed.com/job_description.csv').st_size== 0\n",
    "    if file_is_empty:\n",
    "        csv_print.writerow(['Job_Title','Company','Location','Summary','Jobs_Description','Salary'])\n",
    "    \n",
    "    for job_list in jobs_categories:\n",
    "        \n",
    "        for page in page_list:\n",
    "            source = requests.get('https://www.indeed.com/jobs?q='+job_list+'&start={}'.format(page)).text\n",
    "\n",
    "            soup = BeautifulSoup(source,'lxml')\n",
    "            \n",
    "            for jobs in soup.find_all(class_='result'):\n",
    "                \n",
    "                \n",
    "                print(\"-------------------------------------------\")\n",
    "                requests.get('https://www.indeed.com/jobs?q='+job_list+'&start={}'.format(page)).text\n",
    "\n",
    "                try:\n",
    "                    \n",
    "                    getJK = jobs.find(class_='title') \n",
    "                    getJK1 = getJK.find('a')\n",
    "                    #print(getJK1)\n",
    "                    getJK2 = re.search('\"jl_(.+?)\"',str(getJK1)).group(1)\n",
    "                    #print(getJK2)\n",
    "               \n",
    "                    links = soup.find_all('script')\n",
    "                    links2 = str(links)\n",
    "                    word = re.search('tk (.*)',links2)\n",
    "                    word2 =  str(word.groups())\n",
    "                    match = re.search(r'[\"](.*?)[\"]',word2).group()\n",
    "                    #print( match )\n",
    "\n",
    "                    find_jk = soup.find(class_='result')\n",
    "                    find_jk1 = find_jk.find('a')\n",
    "                    find_jk2 = str(find_jk1)\n",
    "                    find_jk3 = re.search(r'jk=(.*?)&',find_jk2).group(1)\n",
    "                    #print(find_jk3)\n",
    "                    \n",
    "                    #source1 = requests.get('https://www.indeed.com/viewjob?'+find_jk3+''+match+'&from=serp&vjs=3').text\n",
    "\n",
    "                    source1 = requests.get('https://www.indeed.com/viewjob?jk='+getJK2+'&'+match+'&from=serp&vjs=3').text\n",
    "\n",
    "                    soup1 = BeautifulSoup(source1,'lxml')\n",
    "                    jobs_description = soup1.find(class_='jobsearch-jobDescriptionText').text.strip()\n",
    "                    #print('*************************')\n",
    "                    #print(jobs_description)\n",
    "                    \n",
    "                except Exception as e:\n",
    "                    jobs_description = None\n",
    "\n",
    "                try:\n",
    "                    job_title = jobs.find(class_='title').text.strip()\n",
    "                except Exception as e:\n",
    "                    job_title = None\n",
    "                #print('Job_Title' ,job_title)\n",
    "\n",
    "                try:\n",
    "                    company_name = jobs.find('span',class_='company').text.strip()\n",
    "                except Exception as e:\n",
    "                    company_name = None\n",
    "                #print('Company_Name' ,company_name)\n",
    "\n",
    "                try:\n",
    "                    company_location = jobs.find('span',class_='location').text.strip()\n",
    "                except Exception as e:\n",
    "                    company_location = None\n",
    "                #print('Company_Location' ,company_location)\n",
    "\n",
    "                try:\n",
    "                    summary = jobs.find(class_='summary').text.strip()\n",
    "                except Exception as e:\n",
    "                    summary = None\n",
    "                #print('Summary' ,summary)\n",
    "\n",
    "                try:\n",
    "                    salary = jobs.find(class_='salary').text.strip()\n",
    "                except Exception as e:\n",
    "                    salary = None\n",
    "                #print('Salary' ,salary)\n",
    "                \n",
    "#                 jobDic[i] = {'URI' : job_title ,'description' : company_location}\n",
    "#                 i = i+1\n",
    "                \n",
    "                s = Job('https://www.indeed.com/viewjob?jk='+getJK2+'&'+match+'&from=serp&vjs=3', company_location , jobs_description)\n",
    "                jobList.append(s)\n",
    "\n",
    "                csv_print.writerow([job_title,company_name,company_location,summary,jobs_description,salary])\n",
    "\n",
    "                time.sleep(2)\n",
    "                \n",
    "        #print(jobDic['description'])\n",
    "                "
   ]
  },
  {
   "cell_type": "code",
   "execution_count": 28,
   "metadata": {},
   "outputs": [
    {
     "name": "stdout",
     "output_type": "stream",
     "text": [
      "None\n",
      "King of Prussia, PA\n",
      "Pittsburgh, PA\n",
      "Washington, DC\n",
      "Waukegan, IL\n",
      "Cambridge, MA\n",
      "Jersey City, NJ 07306 (Hackensack Riverfront area)\n",
      "Herndon, VA\n",
      "Fremont, CA\n",
      "Raleigh, NC\n"
     ]
    }
   ],
   "source": [
    "for s in jobList:\n",
    "    print(s.description)"
   ]
  },
  {
   "cell_type": "code",
   "execution_count": 29,
   "metadata": {},
   "outputs": [
    {
     "name": "stdout",
     "output_type": "stream",
     "text": [
      "['mid', 'level', 'java', 'developer', 'looking', 'new', 'exciting', 'job', 'excited', 'energized', 'individuals', 'good', 'fit', 'team', 'train', 'products', 'need', 'know', 'knowledgeable', 'programming', 'fundamentals', 'pluses', 'experience', 'understanding', 'web', 'technologies', 'seo', 'javascript', 'databases', 'security', 'asponte?/who', 'small', 'consulting', 'firm', 'ibm', 'premier', 'business', 'partner', 'focus', 'selling', 'services', 'sell', 'tight', 'knit', 'group', 'like', 'fun', 'cater', 'lunches', 'office', 'snacks', 'beers', 'time', 'throw', 'football', 'relax', 'expected', 'duties', 'trained', 'portal', 'wcm', 'fully', 'functional', 'member', 'development', 'include', 'regular', 'applications', 'way', 'html', 'based', 'ui', 'content', 'travel', '50', 'prefer', 'schedule', 'makes', 'sense', 'saving', 'clients', 'money', 'apply', 'use', 'form', 'website', 'send', 'copy', 'resume', 'cover', 'letter', 'answer', 'question', 'exploring', 'www.asponte.com[1', 'fitting', 'questions', 'hesitate', 'ask', '3', '5', 'years', 'ability', 'communicate', 'professional', 'environment', 'authorization', 'work', 'usa', 'positive', 'flexible', 'attitude']\n",
      "['job', 'details', 'position', 'jr', 'java', 'application', 'developer', 'stack', 'advanced', '5', 'yrs', 'min', 'experience', 'spring', 'boot', 'framework', 'angularui', 'development', 'ibm', 'mq', 'active', 'mq-', 'intermediate', 'agile']\n",
      "['comments', '\\n\\n', 'manager', 'prefers', 'local', 'candidates', 'looking', 'cloud', 'angular', 'experience', 'contract', 'hire', 'work', 'remote', 'covid', '19', 'report', 'pittsburgh', 'location', 'restrictions', 'lifted', 'ideal', 'candidate', 'forward', 'thinking', 'individual', 'thinks', 'outside', 'box', 'passion', 'create', 'new', 'exciting', 'products', 'programs', 'services', 'description', 'integral', 'member', 'agile', 'software', 'engineer', 'team', 'responsible', 'building', 'scalable', 'applications', 'digital', 'channels', 'serve', 'customers', 'taking', 'enterprise', 'wide', 'architectural', 'view', 'solutions', 'technical', 'execution', 'stack', 'best', 'meets', 'needs', 'platform', 'involved', 'aspect', 'application', 'build', 'process', 'idea', 'generation', 'business', 'analysis', 'design', 'development', 'latest', 'technologies', 'patterns', '7', 'years', 'professional', 'strong', 'java', 'backend', 'microservices', 'spring', 'boot', 'javascript', '4', 'higher', 'senior', 'level', 'code', 'reviews', 'creating', 'standards', 'mentoring']\n",
      "['java', 'backend', 'developer', '\\n\\n', 'team', 'capco', 'technology', 'dedicated', 'financial', 'services', 'industries', 'professionals', 'combine', 'innovative', 'thinking', 'unrivalled', 'industry', 'domain', 'expertise', 'offer', 'clients', 'consulting', 'complex', 'package', 'integration', 'transformation', 'delivery', 'managed', 'organizations', 'forward', 'collaborative', 'efficient', 'approach', 'help', 'successfully', 'innovate', 'increase', 'revenue', 'manage', 'risk', 'regulatory', 'change', 'reduce', 'costs', 'enhance', 'controls', 'teams', 'stay', 'forefront', 'trends', 'technologies', 'driving', 'innovation', 'strategy', 'launch', 'adept', 'delivering', 'product', 'lifecycle', 'job', 'member', 'bring', 'practical', 'knowledge', 'agile', 'development', 'methodologies', 'engineering', 'best', 'practices', 'use', 'experience', 'skills', 'contribute', 'quality', 'implementation', 'software', 'products', 'customers', 'perform', 'hands', 'adoption', 'modern', 'spring', 'boot', 'rest', 'microservices', 'mongo', 'db', 'aws', 'cloud', 'work', 'closely', 'manager', 'understand', 'needs', 'client', 'stakeholder', 'management', 'demonstrate', 'passion', 'learning', 'willingness', 'adopt', 'new', 'culture', 'ideas', 'continuous', 'improvement', 'great', 'attitude', 'solid', 'communication', 'learn', 'collaborate', 'ensure', 'clear', 'documentation', 'created', 'modified', 'functionality', 'responsible', 'interfacing', 'influencing', 'business', 'lines', 'developing', 'applications', '8', 'high', 'level', 'tech', 'like', 'implementing', 'solutions', 'azure', 'google', 'willing', 'developers', 'company', 'continuously', 'improve', 'strong', 'critical', 'excellent', 'ability', 'liaise', 'influence', 'range', 'internal', 'external', 'stakeholders', 'bachelor', 'degree', 'join', 'supports', 'encourages', 'entrepreneurial', 'outlook', 'independent', 'organizational', 'charts', 'layers', '–', 'operate', 'little', 'hierarchy', 'want', 'employees', 'feel', 'firm', 'highly', 'competitive', 'benefits', 'including', 'medical', 'dental', 'vision', 'insurance', '401(k', 'plan', 'tuition', 'reimbursement', 'focused', 'creation', 'lasting', 'value', 'ready', 'step', 'sounds', 'love', 'hear', 'opportunity', 'difference', 'successful', 'significant', 'growth', 'trajectory']\n",
      "['published', 'june', '25', '2020', 'location', 'waukegan', 'il', 'united', 'states', 'america', 'job', 'type', 'contract', 'description', 'title', 'as/400', 'rpg', 'developer', 'java', 'id', '10679', 'salary', '70', 'hr', 'w2', '77', 'c2c', 'status', 'hire', 'client', 'join', 'leader', 'supply', 'chain', 'industry', 'position', 'looking', 'responsible', 'development', 'maintenance', 'based', 'applications', 'responsibilities', 'design', 'develop', 'implement', 'support', 'maintain', 'complex', 'application', 'troubleshoot', 'resolve', 'issues', 'code', 'quality', 'unit', 'testing', 'document', 'appropriately', 'communicate', 'business', 'analysts', 'gather', 'accurate', 'specifications', 'collaborate', 'team', 'members', 'projects', 'requirements', '3', 'years', 'experience', 'knowledge', 'iv', 'ile', 'db2/400', 'tables', 'clp', 'sql', 'connectivity', 'pc', 'internet', 'functions', 'needed', 'bachelor', 'degree', 'required']\n",
      "['platform', 'engineering', 'team', 'mission', 'deliver', 'internal', 'software', 'solutions', 'drive', 'revenue', 'improve', 'traveler', 'experience', 'provided', 'hopjump', 'externally', 'facing', 'products', 'members', 'ownership', 'provide', 'technical', 'leadership', 'platforms', 'tools', 'power', 'applications', 'ultimately', 'ideal', 'candidate', 'able', 'align', 'activities', 'business', 'objectives', 'ensure', 'consistent', 'predictable', 'delivery', 'valuable', '\\n\\n', 'job', 'function', 'assist', 'house', 'better', 'understand', 'migrate', 'integrate', 'newly', 'acquired', 'codebases', 'infrastructure', 'meet', 'operational', 'deadlines', 'zero', 'disruption', 'service', 'site', 'email', 'perspective', 'documentation', 'writing', 'editing', 'code', 'reviews', 'requirements', 'gathering', 'effort', 'estimation', 'nice', 'technologies', 'commonly', 'environments', 'including', 'spring', 'boot', 'junit', 'kubernetes', 'jenkins', 'redis', 'apache', 'kafka', 'mysql', 'postgresql', 'amazon', 'redshift', 'influxdb', 'uwsgi', 'akamai', 'media', 'airflow', 'javascript', 'typescript', 'react', 'haves', 'java', 'python', 'version', 'control', 'e.g', 'git', 'svn', 'mercurial', 'level', 'education', 'minimum', 'bachelor', 'computer', 'science', 'robotics', 'involving', 'programming', 'lots', 'work', 'demonstrating', 'competency', 'field', '5', 'years', '3', '7', 'relevant', 'willingness', 'ability', 'plan', 'process', 'execute', 'daily', 'basis', 'emphasis', 'achieving', 'measurable', 'results', 'linux', 'unix', 'fluency', 'look', 'bash', 'sysadmin', 'successful', 'engineer', 'build', 'cloud', 'based', 'aws', 'micro', 'services', '–', 'primarily', 'implement', 'defined', 'features', 'good', 'test', 'coverage', 'peer', 'ready', 'use', 'strike', 'balance', 'pragmatic', 'timely', 'short', 'term', 'debt', 'avoidance', 'things', 'like', 'value', 'encourage', 'creative', 'thinking', 'intellectual', 'curiosity', 'clear', 'understanding', 'matters', 'company', 'find', 'interesting', 'new', 'challenges', 'day', 'forefront', 'online', 'marketing', 'given', 'responsibility', 'big', 'impact', 'opportunities', 'early', 'passionate', 'broad', 'skills', 'interests', 'fun', 'frequent', 'outings', 'lunches', 'parties', 'offer', 'competitive', 'salaries', 'excellent', 'benefits', 'relaxed', 'environment', 'plenty', 'perks']\n",
      "['overview', 'leading', 'independently', 'owned', 'operated', 'distributor', 'foodservice', 'packaging', 'facilities', 'maintenance', 'supplies', 'equipment', 'united', 'states', 'puerto', 'rico', 'caribbean', 'provider', 'customized', 'supply', 'chain', 'solutions', 'serve', 'customers', 'business', 'market', 'segments', 'growing', 'network', 'strategically', 'located', 'distribution', 'centers', '700', 'fleet', 'vehicles', 'delivers', '40,000', '3000', 'associates', 'team', 'dedicated', 'exceeding', 'customer', 'expectations', '\\n\\n', 'java', 'developer', 'position', 'primarily', 'remote', 'occasionally', 'need', 'report', 'corporate', 'headquarters', 'jersey', 'city', 'nj', 'responsibilities', 'co', 'design', 'develop', 'software', 'provide', 'services', 'mission', 'critical', 'applications', 'refactor', 'replace', 'legacy', 'systems', 'incrementally', 'maintaining', 'backward', 'compatibility', 'dependent', 'collaborate', 'development', 'members', 'solve', 'problems', 'new', 'functionality', 'qualifications', 'requirements', '5', 'years', 'hands', 'j2ee', 'candidates', 'relevant', 'experience', 'considered', 'bachelor', 'degree', 'preferred', 'computer', 'science', 'engineering', 'architecture', 'object', 'oriented', 'patterns', 'spring', 'framework', 'modules', 'boot', 'microservices', 'open', 'source', 'frameworks-', 'hibernate', 'knowledge', 'interest', 'client', 'web', 'technologies', 'angular', 'react', 'implementing', 'working', 'rest', 'ci', 'cd', 'pipelines', 'tools', 'maven', 'jenkins', 'strong', 'understanding', 'git', 'branching', 'excellent', 'communication', 'skills', 'comfortable', 'collaborative', 'environment', 'self', 'motivated', 'offer', 'imperial', 'dade', 'exciting', 'work', 'learn', 'grow', 'professionally', 'continue', 'invite', 'talented', 'individuals', 'passion', 'excellence', 'join', 'family', 'company', 'value', 'people', 'strive', 'create', 'rewarding', 'career', 'opportunities', 'offering', 'competitive', 'salaries', 'benefits', '401', 'k', 'life', 'insurance', 'generous', 'paid', 'time', 'package', 'equal', 'opportunity', 'employer', 'qualified', 'applicants', 'receive', 'consideration', 'employment', 'regard', 'race', 'color', 'religion', 'sex', 'national', 'origin', 'disability', 'protected', 'veteran', 'status', 'class']\n",
      "['qvine', 'hiring', 'cleared', 'poly', 'required', 'java', 'development', 'professionals', 'performance', 'senior', 'expert', 'sme', 'levels', 'immediately', 'candidates', 'experience', 'developing', 'preferred', 'agile', 'utilizing', 'tools', 'systems', 'j2ee', 'spring', 'hibernate', 'ant', 'maven', 'eclipse', '\\n\\n', 'corporation', 'equal', 'opportunity', 'employer', '—', 'm', 'f', 'd', 'v']\n",
      "['job', 'description', 'skill', 'java', 'developer', 'role', 't3', 't2', 'interested', 'cycle', 'development', 'working', 'collaboratively', 'diverse', 'suite', 'clients', 'team', 'cares', 'growth', 'join', 'virtusa', 'opportunity', 'tap', 'knowledge', 'develop', 'design', 'manage', 'wide', 'range', 'innovative', 'projects', 'sound', 'like', 'fun', 'read', '\\n\\n', 'day', 'responsibilities', 'include', '\\n ', 'utilizing', 'deep', 'technical', 'optimize', 'business', 'processes', 'multiple', 'systems', 'developing', 'detailed', 'analysis', 'specifications', 'based', 'functional', 'requirements', 'collaborating', 'fellow', 'developers', 'solve', 'problems', 'creating', 'user', 'acceptance', 'testing', 'performance', 'plans', 'validate', 'support', 'customizations', 'features', 'functionalities', 'migrating', 'internal', 'external', 'clouds', 'microservices', 'architecture', 'evaluating', 'open', 'source', 'vendor', 'products', 'qualifications', 'bachelor', 'degree', 'computer', 'science', 'engineering', 'related', 'field', 'equivalent', 'professional', 'experience', '5', 'years', 'software', '3', 'j2ee', 'lifecycle', 'delivery', 'complex', 'including', 'build', 'test', 'deployment', 'confident', 'problem', 'solver', 'communicator', 'meticulous', 'strong', 'attention', 'detail', 'demonstrated', 'cross', 'player', 'prior', 'building', 'internet', 'platforms', 'ground', 'understanding', 'patterns', 'architectures', 'enterprise', 'industry', 'best', 'practices', 'agile', 'environment', 'expert', 'level', 'designing', 'rest', 'soap', 'web', 'services', 'ajax', 'plus', 'oracle', 'sql', 'preferred', 'messaging', 'event', 'driven', 'database', 'high', 'volume', 'mission', 'critical', 'applications', 'distributed', 'scale', 'fast', 'paced', 'written', 'verbal', 'communication', 'skills', 'interpersonal', 'time', 'management', 'analytical', 'troubleshooting', 'teamwork', 'quality', 'life', 'personal', 'values', 'proud', 'embody', '21,000', 'people', 'globally', '—', 'seeks', 'provide', 'exciting', 'opportunities', 'work', 'state', 'art', 'technologies', 'career', 'great', 'minds', 'potential', 'comes', 'value', 'collaboration', 'company', 'seek', 'dynamic', 'place', 'nurture', 'new', 'ideas', 'foster', 'excellence', 'founded', 'principles', 'equal', 'discriminate', 'basis', 'race', 'religion', 'color', 'sex', 'gender', 'identity', 'sexual', 'orientation', 'age', 'non', 'disqualifying', 'physical', 'mental', 'disability', 'national', 'origin', 'veteran', 'status', 'covered', 'appropriate', 'law', 'employment', 'decided', 'merit', 'need', 'learn', 'www.virtusa.com', '\\n\\n\\n', 'primary', 'location', 'fremont', 'schedule', 'type', 'experienced', 'travel', 'posting', '06/07/2020', '7:43:46', 'pm']\n",
      "['piper', 'companies', 'currently', 'looking', 'stack', 'java', 'developer', 'raleigh', 'nc', 'area', '\\n\\n', 'responsibilities', 'include', 'desire', 'design', 'build', 'software', 'logistics', 'resolve', 'technical', 'production', 'issues', 'team', 'maintain', 'support', 'existing', 'products', 'qualifications', '2', '4', 'years', 'experience', 'working', 'knowledge', 'spring', 'hibernate', 'angular', 'kafka', 'bonus', 'kubernetes', 'familiarity', 'excellent', 'communication', 'compensation', 'salary', 'range', '100,000-$110,000', 'based', 'competencies', 'stock', 'options', 'pto', 'medical', 'dental', 'benefits']\n"
     ]
    }
   ],
   "source": [
    "word_frequencies = {}\n",
    "new_word_frequencies = []\n",
    "finalJobDescriptionList = {}\n",
    "jobListFinal = []\n",
    "\n",
    "for s in jobList:\n",
    "    word_frequencies = {}\n",
    "    new_word_frequencies = []\n",
    "    text = str(s.summary)\n",
    "    URI =str(s.URI)\n",
    "    doc = nlp(text)\n",
    "    tokens = [token.text for token in doc]\n",
    "    \n",
    "    for word in doc:\n",
    "             if word.text.lower() not in stopwords:\n",
    "                if word.text.lower() not in punctuation:\n",
    "                    if word.text.lower() not in word_frequencies.keys():\n",
    "                        word_frequencies[word.text.lower()] = 1\n",
    "                        new_word_frequencies.append(word.text.lower())\n",
    "                    else:\n",
    "                        word_frequencies[word.text.lower()] += 1\n",
    "                        \n",
    "    s = Job(URI,word_frequencies,new_word_frequencies)\n",
    "    jobListFinal.append(s)\n",
    "    print(new_word_frequencies)"
   ]
  },
  {
   "cell_type": "code",
   "execution_count": null,
   "metadata": {},
   "outputs": [],
   "source": []
  }
 ],
 "metadata": {
  "kernelspec": {
   "display_name": "Python 3",
   "language": "python",
   "name": "python3"
  },
  "language_info": {
   "codemirror_mode": {
    "name": "ipython",
    "version": 3
   },
   "file_extension": ".py",
   "mimetype": "text/x-python",
   "name": "python",
   "nbconvert_exporter": "python",
   "pygments_lexer": "ipython3",
   "version": "3.7.3"
  }
 },
 "nbformat": 4,
 "nbformat_minor": 2
}
