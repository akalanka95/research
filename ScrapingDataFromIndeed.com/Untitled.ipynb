{
 "cells": [
  {
   "cell_type": "code",
   "execution_count": 23,
   "metadata": {},
   "outputs": [],
   "source": [
    "from bs4 import BeautifulSoup\n",
    "import requests\n",
    "import time\n",
    "import csv\n",
    "import os\n",
    "import re"
   ]
  },
  {
   "cell_type": "code",
   "execution_count": 105,
   "metadata": {},
   "outputs": [
    {
     "name": "stdout",
     "output_type": "stream",
     "text": [
      "\"1ea1s7pdjqj1a800\"\n",
      "jk=57125117d2b4b0f6&\n"
     ]
    }
   ],
   "source": [
    "source = requests.get('https://www.indeed.com/jobs?q=data+scientist&l=').text\n",
    "\n",
    "soup = BeautifulSoup(source,'lxml')\n",
    "\n",
    "\n",
    "#jobs = soup.find(class_='jobsearch-jobDescriptionText').text.strip()\n",
    "links = soup.find_all('script')\n",
    "\n",
    "links2 = str(links)\n",
    "word = re.search('tk (.*)',links2)\n",
    "word2 =  str(word.groups())\n",
    "match = re.search(r'[\"](.*?)[\"]',word2).group()\n",
    "#re.search('\"\\('([^']*)\"', word2)\n",
    "print(match)\n",
    "\n",
    "jobs = soup.find(class_='result')\n",
    "\n",
    "job_title = jobs.find('a')\n",
    "job_title2 = str(job_title)\n",
    "# job_title3 = re.search('jk=(.*)',job_title2)\n",
    "# re.search(r'Part 1\\.(.*?)Part 3', s).group(1)\n",
    "job_title3 = re.search(r'jk=(.*?)&',job_title2).group()\n",
    "print(job_title3)"
   ]
  },
  {
   "cell_type": "code",
   "execution_count": null,
   "metadata": {},
   "outputs": [],
   "source": []
  },
  {
   "cell_type": "code",
   "execution_count": null,
   "metadata": {},
   "outputs": [],
   "source": []
  },
  {
   "cell_type": "code",
   "execution_count": null,
   "metadata": {},
   "outputs": [],
   "source": []
  }
 ],
 "metadata": {
  "kernelspec": {
   "display_name": "Python 3",
   "language": "python",
   "name": "python3"
  },
  "language_info": {
   "codemirror_mode": {
    "name": "ipython",
    "version": 3
   },
   "file_extension": ".py",
   "mimetype": "text/x-python",
   "name": "python",
   "nbconvert_exporter": "python",
   "pygments_lexer": "ipython3",
   "version": "3.7.3"
  }
 },
 "nbformat": 4,
 "nbformat_minor": 2
}
